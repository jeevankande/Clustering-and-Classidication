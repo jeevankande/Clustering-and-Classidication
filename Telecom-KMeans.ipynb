{
 "cells": [
  {
   "cell_type": "code",
   "execution_count": 61,
   "metadata": {},
   "outputs": [
    {
     "name": "stdout",
     "output_type": "stream",
     "text": [
      "Import successfully\n"
     ]
    }
   ],
   "source": [
    "try:\n",
    "    import numpy as np\n",
    "    import pandas as pd\n",
    "    import seaborn as sns\n",
    "    import matplotlib.pyplot as plt\n",
    "#     import scipy.stats as stats\n",
    "#     import scipy.cluster.hierarchy as sch\n",
    "#     from scipy.cluster.hierarchy import linkage\n",
    "    from sklearn.cluster import KMeans\n",
    "except Exception as e:\n",
    "    print(e)\n",
    "else:\n",
    "    print('Import successfully')\n",
    "\n",
    "    "
   ]
  },
  {
   "cell_type": "code",
   "execution_count": 2,
   "metadata": {},
   "outputs": [],
   "source": [
    "telecom = pd.read_excel('Telco_customer_churn.xlsx')"
   ]
  },
  {
   "cell_type": "code",
   "execution_count": 8,
   "metadata": {},
   "outputs": [],
   "source": [
    "telecom.drop('Customer ID',axis=1,inplace=True)\n"
   ]
  },
  {
   "cell_type": "code",
   "execution_count": 11,
   "metadata": {},
   "outputs": [],
   "source": [
    "telecom.drop(['Count','Quarter'],axis=1,inplace=True)"
   ]
  },
  {
   "cell_type": "code",
   "execution_count": 17,
   "metadata": {},
   "outputs": [],
   "source": [
    "pd.set_option('display.max_columns', None)"
   ]
  },
  {
   "cell_type": "code",
   "execution_count": 18,
   "metadata": {},
   "outputs": [
    {
     "data": {
      "text/html": [
       "<div>\n",
       "<style scoped>\n",
       "    .dataframe tbody tr th:only-of-type {\n",
       "        vertical-align: middle;\n",
       "    }\n",
       "\n",
       "    .dataframe tbody tr th {\n",
       "        vertical-align: top;\n",
       "    }\n",
       "\n",
       "    .dataframe thead th {\n",
       "        text-align: right;\n",
       "    }\n",
       "</style>\n",
       "<table border=\"1\" class=\"dataframe\">\n",
       "  <thead>\n",
       "    <tr style=\"text-align: right;\">\n",
       "      <th></th>\n",
       "      <th>Referred a Friend</th>\n",
       "      <th>Number of Referrals</th>\n",
       "      <th>Tenure in Months</th>\n",
       "      <th>Offer</th>\n",
       "      <th>Phone Service</th>\n",
       "      <th>Avg Monthly Long Distance Charges</th>\n",
       "      <th>Multiple Lines</th>\n",
       "      <th>Internet Service</th>\n",
       "      <th>Internet Type</th>\n",
       "      <th>Avg Monthly GB Download</th>\n",
       "      <th>Online Security</th>\n",
       "      <th>Online Backup</th>\n",
       "      <th>Device Protection Plan</th>\n",
       "      <th>Premium Tech Support</th>\n",
       "      <th>Streaming TV</th>\n",
       "      <th>Streaming Movies</th>\n",
       "      <th>Streaming Music</th>\n",
       "      <th>Unlimited Data</th>\n",
       "      <th>Contract</th>\n",
       "      <th>Paperless Billing</th>\n",
       "      <th>Payment Method</th>\n",
       "      <th>Monthly Charge</th>\n",
       "      <th>Total Charges</th>\n",
       "      <th>Total Refunds</th>\n",
       "      <th>Total Extra Data Charges</th>\n",
       "      <th>Total Long Distance Charges</th>\n",
       "      <th>Total Revenue</th>\n",
       "    </tr>\n",
       "  </thead>\n",
       "  <tbody>\n",
       "    <tr>\n",
       "      <th>0</th>\n",
       "      <td>No</td>\n",
       "      <td>0</td>\n",
       "      <td>1</td>\n",
       "      <td>None</td>\n",
       "      <td>No</td>\n",
       "      <td>0.00</td>\n",
       "      <td>No</td>\n",
       "      <td>Yes</td>\n",
       "      <td>DSL</td>\n",
       "      <td>8</td>\n",
       "      <td>No</td>\n",
       "      <td>No</td>\n",
       "      <td>Yes</td>\n",
       "      <td>No</td>\n",
       "      <td>No</td>\n",
       "      <td>Yes</td>\n",
       "      <td>No</td>\n",
       "      <td>No</td>\n",
       "      <td>Month-to-Month</td>\n",
       "      <td>Yes</td>\n",
       "      <td>Bank Withdrawal</td>\n",
       "      <td>39.65</td>\n",
       "      <td>39.65</td>\n",
       "      <td>0.00</td>\n",
       "      <td>20</td>\n",
       "      <td>0.00</td>\n",
       "      <td>59.65</td>\n",
       "    </tr>\n",
       "    <tr>\n",
       "      <th>1</th>\n",
       "      <td>Yes</td>\n",
       "      <td>1</td>\n",
       "      <td>8</td>\n",
       "      <td>Offer E</td>\n",
       "      <td>Yes</td>\n",
       "      <td>48.85</td>\n",
       "      <td>Yes</td>\n",
       "      <td>Yes</td>\n",
       "      <td>Fiber Optic</td>\n",
       "      <td>17</td>\n",
       "      <td>No</td>\n",
       "      <td>Yes</td>\n",
       "      <td>No</td>\n",
       "      <td>No</td>\n",
       "      <td>No</td>\n",
       "      <td>No</td>\n",
       "      <td>No</td>\n",
       "      <td>Yes</td>\n",
       "      <td>Month-to-Month</td>\n",
       "      <td>Yes</td>\n",
       "      <td>Credit Card</td>\n",
       "      <td>80.65</td>\n",
       "      <td>633.30</td>\n",
       "      <td>0.00</td>\n",
       "      <td>0</td>\n",
       "      <td>390.80</td>\n",
       "      <td>1024.10</td>\n",
       "    </tr>\n",
       "    <tr>\n",
       "      <th>2</th>\n",
       "      <td>No</td>\n",
       "      <td>0</td>\n",
       "      <td>18</td>\n",
       "      <td>Offer D</td>\n",
       "      <td>Yes</td>\n",
       "      <td>11.33</td>\n",
       "      <td>Yes</td>\n",
       "      <td>Yes</td>\n",
       "      <td>Fiber Optic</td>\n",
       "      <td>52</td>\n",
       "      <td>No</td>\n",
       "      <td>No</td>\n",
       "      <td>No</td>\n",
       "      <td>No</td>\n",
       "      <td>Yes</td>\n",
       "      <td>Yes</td>\n",
       "      <td>Yes</td>\n",
       "      <td>Yes</td>\n",
       "      <td>Month-to-Month</td>\n",
       "      <td>Yes</td>\n",
       "      <td>Bank Withdrawal</td>\n",
       "      <td>95.45</td>\n",
       "      <td>1752.55</td>\n",
       "      <td>45.61</td>\n",
       "      <td>0</td>\n",
       "      <td>203.94</td>\n",
       "      <td>1910.88</td>\n",
       "    </tr>\n",
       "    <tr>\n",
       "      <th>3</th>\n",
       "      <td>Yes</td>\n",
       "      <td>1</td>\n",
       "      <td>25</td>\n",
       "      <td>Offer C</td>\n",
       "      <td>Yes</td>\n",
       "      <td>19.76</td>\n",
       "      <td>No</td>\n",
       "      <td>Yes</td>\n",
       "      <td>Fiber Optic</td>\n",
       "      <td>12</td>\n",
       "      <td>No</td>\n",
       "      <td>Yes</td>\n",
       "      <td>Yes</td>\n",
       "      <td>No</td>\n",
       "      <td>Yes</td>\n",
       "      <td>Yes</td>\n",
       "      <td>No</td>\n",
       "      <td>Yes</td>\n",
       "      <td>Month-to-Month</td>\n",
       "      <td>Yes</td>\n",
       "      <td>Bank Withdrawal</td>\n",
       "      <td>98.50</td>\n",
       "      <td>2514.50</td>\n",
       "      <td>13.43</td>\n",
       "      <td>0</td>\n",
       "      <td>494.00</td>\n",
       "      <td>2995.07</td>\n",
       "    </tr>\n",
       "    <tr>\n",
       "      <th>4</th>\n",
       "      <td>Yes</td>\n",
       "      <td>1</td>\n",
       "      <td>37</td>\n",
       "      <td>Offer C</td>\n",
       "      <td>Yes</td>\n",
       "      <td>6.33</td>\n",
       "      <td>Yes</td>\n",
       "      <td>Yes</td>\n",
       "      <td>Fiber Optic</td>\n",
       "      <td>14</td>\n",
       "      <td>No</td>\n",
       "      <td>No</td>\n",
       "      <td>No</td>\n",
       "      <td>No</td>\n",
       "      <td>No</td>\n",
       "      <td>No</td>\n",
       "      <td>No</td>\n",
       "      <td>Yes</td>\n",
       "      <td>Month-to-Month</td>\n",
       "      <td>Yes</td>\n",
       "      <td>Bank Withdrawal</td>\n",
       "      <td>76.50</td>\n",
       "      <td>2868.15</td>\n",
       "      <td>0.00</td>\n",
       "      <td>0</td>\n",
       "      <td>234.21</td>\n",
       "      <td>3102.36</td>\n",
       "    </tr>\n",
       "    <tr>\n",
       "      <th>...</th>\n",
       "      <td>...</td>\n",
       "      <td>...</td>\n",
       "      <td>...</td>\n",
       "      <td>...</td>\n",
       "      <td>...</td>\n",
       "      <td>...</td>\n",
       "      <td>...</td>\n",
       "      <td>...</td>\n",
       "      <td>...</td>\n",
       "      <td>...</td>\n",
       "      <td>...</td>\n",
       "      <td>...</td>\n",
       "      <td>...</td>\n",
       "      <td>...</td>\n",
       "      <td>...</td>\n",
       "      <td>...</td>\n",
       "      <td>...</td>\n",
       "      <td>...</td>\n",
       "      <td>...</td>\n",
       "      <td>...</td>\n",
       "      <td>...</td>\n",
       "      <td>...</td>\n",
       "      <td>...</td>\n",
       "      <td>...</td>\n",
       "      <td>...</td>\n",
       "      <td>...</td>\n",
       "      <td>...</td>\n",
       "    </tr>\n",
       "    <tr>\n",
       "      <th>7038</th>\n",
       "      <td>No</td>\n",
       "      <td>0</td>\n",
       "      <td>72</td>\n",
       "      <td>None</td>\n",
       "      <td>Yes</td>\n",
       "      <td>22.77</td>\n",
       "      <td>No</td>\n",
       "      <td>No</td>\n",
       "      <td>None</td>\n",
       "      <td>0</td>\n",
       "      <td>No</td>\n",
       "      <td>No</td>\n",
       "      <td>No</td>\n",
       "      <td>No</td>\n",
       "      <td>No</td>\n",
       "      <td>No</td>\n",
       "      <td>No</td>\n",
       "      <td>No</td>\n",
       "      <td>Two Year</td>\n",
       "      <td>Yes</td>\n",
       "      <td>Bank Withdrawal</td>\n",
       "      <td>21.15</td>\n",
       "      <td>1419.40</td>\n",
       "      <td>19.31</td>\n",
       "      <td>0</td>\n",
       "      <td>1639.44</td>\n",
       "      <td>3039.53</td>\n",
       "    </tr>\n",
       "    <tr>\n",
       "      <th>7039</th>\n",
       "      <td>Yes</td>\n",
       "      <td>1</td>\n",
       "      <td>24</td>\n",
       "      <td>Offer C</td>\n",
       "      <td>Yes</td>\n",
       "      <td>36.05</td>\n",
       "      <td>Yes</td>\n",
       "      <td>Yes</td>\n",
       "      <td>Cable</td>\n",
       "      <td>24</td>\n",
       "      <td>Yes</td>\n",
       "      <td>No</td>\n",
       "      <td>Yes</td>\n",
       "      <td>Yes</td>\n",
       "      <td>Yes</td>\n",
       "      <td>Yes</td>\n",
       "      <td>Yes</td>\n",
       "      <td>Yes</td>\n",
       "      <td>One Year</td>\n",
       "      <td>Yes</td>\n",
       "      <td>Mailed Check</td>\n",
       "      <td>84.80</td>\n",
       "      <td>1990.50</td>\n",
       "      <td>48.23</td>\n",
       "      <td>0</td>\n",
       "      <td>865.20</td>\n",
       "      <td>2807.47</td>\n",
       "    </tr>\n",
       "    <tr>\n",
       "      <th>7040</th>\n",
       "      <td>Yes</td>\n",
       "      <td>4</td>\n",
       "      <td>72</td>\n",
       "      <td>None</td>\n",
       "      <td>Yes</td>\n",
       "      <td>29.66</td>\n",
       "      <td>Yes</td>\n",
       "      <td>Yes</td>\n",
       "      <td>Fiber Optic</td>\n",
       "      <td>59</td>\n",
       "      <td>No</td>\n",
       "      <td>Yes</td>\n",
       "      <td>Yes</td>\n",
       "      <td>No</td>\n",
       "      <td>Yes</td>\n",
       "      <td>Yes</td>\n",
       "      <td>Yes</td>\n",
       "      <td>Yes</td>\n",
       "      <td>One Year</td>\n",
       "      <td>Yes</td>\n",
       "      <td>Credit Card</td>\n",
       "      <td>103.20</td>\n",
       "      <td>7362.90</td>\n",
       "      <td>45.38</td>\n",
       "      <td>0</td>\n",
       "      <td>2135.52</td>\n",
       "      <td>9453.04</td>\n",
       "    </tr>\n",
       "    <tr>\n",
       "      <th>7041</th>\n",
       "      <td>Yes</td>\n",
       "      <td>1</td>\n",
       "      <td>11</td>\n",
       "      <td>None</td>\n",
       "      <td>No</td>\n",
       "      <td>0.00</td>\n",
       "      <td>No</td>\n",
       "      <td>Yes</td>\n",
       "      <td>DSL</td>\n",
       "      <td>17</td>\n",
       "      <td>Yes</td>\n",
       "      <td>No</td>\n",
       "      <td>No</td>\n",
       "      <td>No</td>\n",
       "      <td>No</td>\n",
       "      <td>No</td>\n",
       "      <td>No</td>\n",
       "      <td>Yes</td>\n",
       "      <td>Month-to-Month</td>\n",
       "      <td>Yes</td>\n",
       "      <td>Bank Withdrawal</td>\n",
       "      <td>29.60</td>\n",
       "      <td>346.45</td>\n",
       "      <td>27.24</td>\n",
       "      <td>0</td>\n",
       "      <td>0.00</td>\n",
       "      <td>319.21</td>\n",
       "    </tr>\n",
       "    <tr>\n",
       "      <th>7042</th>\n",
       "      <td>No</td>\n",
       "      <td>0</td>\n",
       "      <td>66</td>\n",
       "      <td>None</td>\n",
       "      <td>Yes</td>\n",
       "      <td>30.96</td>\n",
       "      <td>No</td>\n",
       "      <td>Yes</td>\n",
       "      <td>Fiber Optic</td>\n",
       "      <td>11</td>\n",
       "      <td>Yes</td>\n",
       "      <td>No</td>\n",
       "      <td>Yes</td>\n",
       "      <td>Yes</td>\n",
       "      <td>Yes</td>\n",
       "      <td>Yes</td>\n",
       "      <td>Yes</td>\n",
       "      <td>Yes</td>\n",
       "      <td>Two Year</td>\n",
       "      <td>Yes</td>\n",
       "      <td>Bank Withdrawal</td>\n",
       "      <td>105.65</td>\n",
       "      <td>6844.50</td>\n",
       "      <td>0.00</td>\n",
       "      <td>0</td>\n",
       "      <td>2043.36</td>\n",
       "      <td>8887.86</td>\n",
       "    </tr>\n",
       "  </tbody>\n",
       "</table>\n",
       "<p>7043 rows × 27 columns</p>\n",
       "</div>"
      ],
      "text/plain": [
       "     Referred a Friend  Number of Referrals  Tenure in Months    Offer  \\\n",
       "0                   No                    0                 1     None   \n",
       "1                  Yes                    1                 8  Offer E   \n",
       "2                   No                    0                18  Offer D   \n",
       "3                  Yes                    1                25  Offer C   \n",
       "4                  Yes                    1                37  Offer C   \n",
       "...                ...                  ...               ...      ...   \n",
       "7038                No                    0                72     None   \n",
       "7039               Yes                    1                24  Offer C   \n",
       "7040               Yes                    4                72     None   \n",
       "7041               Yes                    1                11     None   \n",
       "7042                No                    0                66     None   \n",
       "\n",
       "     Phone Service  Avg Monthly Long Distance Charges Multiple Lines  \\\n",
       "0               No                               0.00             No   \n",
       "1              Yes                              48.85            Yes   \n",
       "2              Yes                              11.33            Yes   \n",
       "3              Yes                              19.76             No   \n",
       "4              Yes                               6.33            Yes   \n",
       "...            ...                                ...            ...   \n",
       "7038           Yes                              22.77             No   \n",
       "7039           Yes                              36.05            Yes   \n",
       "7040           Yes                              29.66            Yes   \n",
       "7041            No                               0.00             No   \n",
       "7042           Yes                              30.96             No   \n",
       "\n",
       "     Internet Service Internet Type  Avg Monthly GB Download Online Security  \\\n",
       "0                 Yes           DSL                        8              No   \n",
       "1                 Yes   Fiber Optic                       17              No   \n",
       "2                 Yes   Fiber Optic                       52              No   \n",
       "3                 Yes   Fiber Optic                       12              No   \n",
       "4                 Yes   Fiber Optic                       14              No   \n",
       "...               ...           ...                      ...             ...   \n",
       "7038               No          None                        0              No   \n",
       "7039              Yes         Cable                       24             Yes   \n",
       "7040              Yes   Fiber Optic                       59              No   \n",
       "7041              Yes           DSL                       17             Yes   \n",
       "7042              Yes   Fiber Optic                       11             Yes   \n",
       "\n",
       "     Online Backup Device Protection Plan Premium Tech Support Streaming TV  \\\n",
       "0               No                    Yes                   No           No   \n",
       "1              Yes                     No                   No           No   \n",
       "2               No                     No                   No          Yes   \n",
       "3              Yes                    Yes                   No          Yes   \n",
       "4               No                     No                   No           No   \n",
       "...            ...                    ...                  ...          ...   \n",
       "7038            No                     No                   No           No   \n",
       "7039            No                    Yes                  Yes          Yes   \n",
       "7040           Yes                    Yes                   No          Yes   \n",
       "7041            No                     No                   No           No   \n",
       "7042            No                    Yes                  Yes          Yes   \n",
       "\n",
       "     Streaming Movies Streaming Music Unlimited Data        Contract  \\\n",
       "0                 Yes              No             No  Month-to-Month   \n",
       "1                  No              No            Yes  Month-to-Month   \n",
       "2                 Yes             Yes            Yes  Month-to-Month   \n",
       "3                 Yes              No            Yes  Month-to-Month   \n",
       "4                  No              No            Yes  Month-to-Month   \n",
       "...               ...             ...            ...             ...   \n",
       "7038               No              No             No        Two Year   \n",
       "7039              Yes             Yes            Yes        One Year   \n",
       "7040              Yes             Yes            Yes        One Year   \n",
       "7041               No              No            Yes  Month-to-Month   \n",
       "7042              Yes             Yes            Yes        Two Year   \n",
       "\n",
       "     Paperless Billing   Payment Method  Monthly Charge  Total Charges  \\\n",
       "0                  Yes  Bank Withdrawal           39.65          39.65   \n",
       "1                  Yes      Credit Card           80.65         633.30   \n",
       "2                  Yes  Bank Withdrawal           95.45        1752.55   \n",
       "3                  Yes  Bank Withdrawal           98.50        2514.50   \n",
       "4                  Yes  Bank Withdrawal           76.50        2868.15   \n",
       "...                ...              ...             ...            ...   \n",
       "7038               Yes  Bank Withdrawal           21.15        1419.40   \n",
       "7039               Yes     Mailed Check           84.80        1990.50   \n",
       "7040               Yes      Credit Card          103.20        7362.90   \n",
       "7041               Yes  Bank Withdrawal           29.60         346.45   \n",
       "7042               Yes  Bank Withdrawal          105.65        6844.50   \n",
       "\n",
       "      Total Refunds  Total Extra Data Charges  Total Long Distance Charges  \\\n",
       "0              0.00                        20                         0.00   \n",
       "1              0.00                         0                       390.80   \n",
       "2             45.61                         0                       203.94   \n",
       "3             13.43                         0                       494.00   \n",
       "4              0.00                         0                       234.21   \n",
       "...             ...                       ...                          ...   \n",
       "7038          19.31                         0                      1639.44   \n",
       "7039          48.23                         0                       865.20   \n",
       "7040          45.38                         0                      2135.52   \n",
       "7041          27.24                         0                         0.00   \n",
       "7042           0.00                         0                      2043.36   \n",
       "\n",
       "      Total Revenue  \n",
       "0             59.65  \n",
       "1           1024.10  \n",
       "2           1910.88  \n",
       "3           2995.07  \n",
       "4           3102.36  \n",
       "...             ...  \n",
       "7038        3039.53  \n",
       "7039        2807.47  \n",
       "7040        9453.04  \n",
       "7041         319.21  \n",
       "7042        8887.86  \n",
       "\n",
       "[7043 rows x 27 columns]"
      ]
     },
     "execution_count": 18,
     "metadata": {},
     "output_type": "execute_result"
    }
   ],
   "source": [
    "telecom"
   ]
  },
  {
   "cell_type": "code",
   "execution_count": 27,
   "metadata": {},
   "outputs": [
    {
     "data": {
      "image/png": "[encoded data removed]",
      "text/plain": [
       "<Figure size 432x288 with 1 Axes>"
      ]
     },
     "metadata": {},
     "output_type": "display_data"
    }
   ],
   "source": [
    "#EDA\n",
    "telecom['Referred a Friend'].value_counts().plot(kind = 'pie', autopct='%2.0f%%',fontsize='12',colors=['#8e609f','#c73879'])\n",
    "plt.show()"
   ]
  },
  {
   "cell_type": "code",
   "execution_count": 26,
   "metadata": {},
   "outputs": [
    {
     "data": {
      "image/png": "[encoded data removed]",
      "text/plain": [
       "<Figure size 432x288 with 1 Axes>"
      ]
     },
     "metadata": {},
     "output_type": "display_data"
    }
   ],
   "source": [
    "telecom['Online Security'].value_counts().plot(kind = 'pie', autopct='%2.0f%%',fontsize='12',colors=['#8e609f','#c73879'])\n",
    "plt.show() #we can drop online security"
   ]
  },
  {
   "cell_type": "code",
   "execution_count": null,
   "metadata": {},
   "outputs": [],
   "source": [
    "# Since from previous Online Security status most of the customer not secured with any schemes.\n",
    "\n",
    "# So will drop the 'online security' Column. in analysis add it on after cluster no. results."
   ]
  },
  {
   "cell_type": "code",
   "execution_count": 25,
   "metadata": {},
   "outputs": [
    {
     "data": {
      "image/png": "[encoded data removed]",
      "text/plain": [
       "<Figure size 432x288 with 1 Axes>"
      ]
     },
     "metadata": {},
     "output_type": "display_data"
    }
   ],
   "source": [
    "telecom['Phone Service'].value_counts().plot(kind = 'pie', autopct='%2.0f%%',fontsize='12',colors=['#8e609f','#c73879'])\n",
    "plt.show()\n"
   ]
  },
  {
   "cell_type": "code",
   "execution_count": 23,
   "metadata": {},
   "outputs": [
    {
     "data": {
      "image/png": "[encoded data removed]",
      "text/plain": [
       "<Figure size 432x288 with 1 Axes>"
      ]
     },
     "metadata": {},
     "output_type": "display_data"
    }
   ],
   "source": [
    "# Since most of the customers suing phone services we can drop phone services. In analysis\n",
    "telecom['Multiple Lines'].value_counts().plot(kind='pie', autopct='%2.0f%%', fontsize='18', \n",
    "                                        colors = ['#F11A05','#43E206'], shadow =True)\n",
    "plt.show()\n"
   ]
  },
  {
   "cell_type": "code",
   "execution_count": 24,
   "metadata": {},
   "outputs": [
    {
     "data": {
      "image/png": "[encoded data removed]",
      "text/plain": [
       "<Figure size 432x288 with 1 Axes>"
      ]
     },
     "metadata": {},
     "output_type": "display_data"
    }
   ],
   "source": [
    "telecom['Internet Service'].value_counts().plot(kind='pie', autopct='%2.0f%%', fontsize='18', \n",
    "                                        colors = ['#F11A05','#43E206'], shadow =True)\n",
    "plt.show()\n"
   ]
  },
  {
   "cell_type": "code",
   "execution_count": 29,
   "metadata": {},
   "outputs": [
    {
     "data": {
      "image/png": "[encoded data removed]",
      "text/plain": [
       "<Figure size 432x288 with 1 Axes>"
      ]
     },
     "metadata": {},
     "output_type": "display_data"
    }
   ],
   "source": [
    "telecom['Online Backup'].value_counts().plot(kind='pie', autopct='%2.0f%%', fontsize='18', \n",
    "                                        colors = ['#F11A05','#43E206'], shadow =True)\n",
    "plt.show()"
   ]
  },
  {
   "cell_type": "markdown",
   "metadata": {},
   "source": [
    "#most of the custmoer don't use back up hece we can drop online backup"
   ]
  },
  {
   "cell_type": "code",
   "execution_count": 30,
   "metadata": {},
   "outputs": [
    {
     "data": {
      "image/png": "[encoded data removed]",
      "text/plain": [
       "<Figure size 432x288 with 1 Axes>"
      ]
     },
     "metadata": {},
     "output_type": "display_data"
    }
   ],
   "source": [
    "telecom['Device Protection Plan'].value_counts().plot(kind='pie', autopct='%2.0f%%', fontsize='18', \n",
    "                                        colors = ['#F11A05','#43E206'], shadow =True)\n",
    "plt.show()"
   ]
  },
  {
   "cell_type": "markdown",
   "metadata": {},
   "source": [
    "#most of the custmoer don't use device protection plan we can drop this col"
   ]
  },
  {
   "cell_type": "code",
   "execution_count": 31,
   "metadata": {},
   "outputs": [
    {
     "data": {
      "text/html": [
       "<div>\n",
       "<style scoped>\n",
       "    .dataframe tbody tr th:only-of-type {\n",
       "        vertical-align: middle;\n",
       "    }\n",
       "\n",
       "    .dataframe tbody tr th {\n",
       "        vertical-align: top;\n",
       "    }\n",
       "\n",
       "    .dataframe thead th {\n",
       "        text-align: right;\n",
       "    }\n",
       "</style>\n",
       "<table border=\"1\" class=\"dataframe\">\n",
       "  <thead>\n",
       "    <tr style=\"text-align: right;\">\n",
       "      <th></th>\n",
       "      <th>Referred a Friend</th>\n",
       "      <th>Number of Referrals</th>\n",
       "      <th>Tenure in Months</th>\n",
       "      <th>Offer</th>\n",
       "      <th>Phone Service</th>\n",
       "      <th>Avg Monthly Long Distance Charges</th>\n",
       "      <th>Multiple Lines</th>\n",
       "      <th>Internet Service</th>\n",
       "      <th>Internet Type</th>\n",
       "      <th>Avg Monthly GB Download</th>\n",
       "      <th>Online Security</th>\n",
       "      <th>Online Backup</th>\n",
       "      <th>Device Protection Plan</th>\n",
       "      <th>Premium Tech Support</th>\n",
       "      <th>Streaming TV</th>\n",
       "      <th>Streaming Movies</th>\n",
       "      <th>Streaming Music</th>\n",
       "      <th>Unlimited Data</th>\n",
       "      <th>Contract</th>\n",
       "      <th>Paperless Billing</th>\n",
       "      <th>Payment Method</th>\n",
       "      <th>Monthly Charge</th>\n",
       "      <th>Total Charges</th>\n",
       "      <th>Total Refunds</th>\n",
       "      <th>Total Extra Data Charges</th>\n",
       "      <th>Total Long Distance Charges</th>\n",
       "      <th>Total Revenue</th>\n",
       "    </tr>\n",
       "  </thead>\n",
       "  <tbody>\n",
       "    <tr>\n",
       "      <th>0</th>\n",
       "      <td>No</td>\n",
       "      <td>0</td>\n",
       "      <td>1</td>\n",
       "      <td>None</td>\n",
       "      <td>No</td>\n",
       "      <td>0.00</td>\n",
       "      <td>No</td>\n",
       "      <td>Yes</td>\n",
       "      <td>DSL</td>\n",
       "      <td>8</td>\n",
       "      <td>No</td>\n",
       "      <td>No</td>\n",
       "      <td>Yes</td>\n",
       "      <td>No</td>\n",
       "      <td>No</td>\n",
       "      <td>Yes</td>\n",
       "      <td>No</td>\n",
       "      <td>No</td>\n",
       "      <td>Month-to-Month</td>\n",
       "      <td>Yes</td>\n",
       "      <td>Bank Withdrawal</td>\n",
       "      <td>39.65</td>\n",
       "      <td>39.65</td>\n",
       "      <td>0.00</td>\n",
       "      <td>20</td>\n",
       "      <td>0.00</td>\n",
       "      <td>59.65</td>\n",
       "    </tr>\n",
       "    <tr>\n",
       "      <th>1</th>\n",
       "      <td>Yes</td>\n",
       "      <td>1</td>\n",
       "      <td>8</td>\n",
       "      <td>Offer E</td>\n",
       "      <td>Yes</td>\n",
       "      <td>48.85</td>\n",
       "      <td>Yes</td>\n",
       "      <td>Yes</td>\n",
       "      <td>Fiber Optic</td>\n",
       "      <td>17</td>\n",
       "      <td>No</td>\n",
       "      <td>Yes</td>\n",
       "      <td>No</td>\n",
       "      <td>No</td>\n",
       "      <td>No</td>\n",
       "      <td>No</td>\n",
       "      <td>No</td>\n",
       "      <td>Yes</td>\n",
       "      <td>Month-to-Month</td>\n",
       "      <td>Yes</td>\n",
       "      <td>Credit Card</td>\n",
       "      <td>80.65</td>\n",
       "      <td>633.30</td>\n",
       "      <td>0.00</td>\n",
       "      <td>0</td>\n",
       "      <td>390.80</td>\n",
       "      <td>1024.10</td>\n",
       "    </tr>\n",
       "    <tr>\n",
       "      <th>2</th>\n",
       "      <td>No</td>\n",
       "      <td>0</td>\n",
       "      <td>18</td>\n",
       "      <td>Offer D</td>\n",
       "      <td>Yes</td>\n",
       "      <td>11.33</td>\n",
       "      <td>Yes</td>\n",
       "      <td>Yes</td>\n",
       "      <td>Fiber Optic</td>\n",
       "      <td>52</td>\n",
       "      <td>No</td>\n",
       "      <td>No</td>\n",
       "      <td>No</td>\n",
       "      <td>No</td>\n",
       "      <td>Yes</td>\n",
       "      <td>Yes</td>\n",
       "      <td>Yes</td>\n",
       "      <td>Yes</td>\n",
       "      <td>Month-to-Month</td>\n",
       "      <td>Yes</td>\n",
       "      <td>Bank Withdrawal</td>\n",
       "      <td>95.45</td>\n",
       "      <td>1752.55</td>\n",
       "      <td>45.61</td>\n",
       "      <td>0</td>\n",
       "      <td>203.94</td>\n",
       "      <td>1910.88</td>\n",
       "    </tr>\n",
       "    <tr>\n",
       "      <th>3</th>\n",
       "      <td>Yes</td>\n",
       "      <td>1</td>\n",
       "      <td>25</td>\n",
       "      <td>Offer C</td>\n",
       "      <td>Yes</td>\n",
       "      <td>19.76</td>\n",
       "      <td>No</td>\n",
       "      <td>Yes</td>\n",
       "      <td>Fiber Optic</td>\n",
       "      <td>12</td>\n",
       "      <td>No</td>\n",
       "      <td>Yes</td>\n",
       "      <td>Yes</td>\n",
       "      <td>No</td>\n",
       "      <td>Yes</td>\n",
       "      <td>Yes</td>\n",
       "      <td>No</td>\n",
       "      <td>Yes</td>\n",
       "      <td>Month-to-Month</td>\n",
       "      <td>Yes</td>\n",
       "      <td>Bank Withdrawal</td>\n",
       "      <td>98.50</td>\n",
       "      <td>2514.50</td>\n",
       "      <td>13.43</td>\n",
       "      <td>0</td>\n",
       "      <td>494.00</td>\n",
       "      <td>2995.07</td>\n",
       "    </tr>\n",
       "    <tr>\n",
       "      <th>4</th>\n",
       "      <td>Yes</td>\n",
       "      <td>1</td>\n",
       "      <td>37</td>\n",
       "      <td>Offer C</td>\n",
       "      <td>Yes</td>\n",
       "      <td>6.33</td>\n",
       "      <td>Yes</td>\n",
       "      <td>Yes</td>\n",
       "      <td>Fiber Optic</td>\n",
       "      <td>14</td>\n",
       "      <td>No</td>\n",
       "      <td>No</td>\n",
       "      <td>No</td>\n",
       "      <td>No</td>\n",
       "      <td>No</td>\n",
       "      <td>No</td>\n",
       "      <td>No</td>\n",
       "      <td>Yes</td>\n",
       "      <td>Month-to-Month</td>\n",
       "      <td>Yes</td>\n",
       "      <td>Bank Withdrawal</td>\n",
       "      <td>76.50</td>\n",
       "      <td>2868.15</td>\n",
       "      <td>0.00</td>\n",
       "      <td>0</td>\n",
       "      <td>234.21</td>\n",
       "      <td>3102.36</td>\n",
       "    </tr>\n",
       "  </tbody>\n",
       "</table>\n",
       "</div>"
      ],
      "text/plain": [
       "  Referred a Friend  Number of Referrals  Tenure in Months    Offer  \\\n",
       "0                No                    0                 1     None   \n",
       "1               Yes                    1                 8  Offer E   \n",
       "2                No                    0                18  Offer D   \n",
       "3               Yes                    1                25  Offer C   \n",
       "4               Yes                    1                37  Offer C   \n",
       "\n",
       "  Phone Service  Avg Monthly Long Distance Charges Multiple Lines  \\\n",
       "0            No                               0.00             No   \n",
       "1           Yes                              48.85            Yes   \n",
       "2           Yes                              11.33            Yes   \n",
       "3           Yes                              19.76             No   \n",
       "4           Yes                               6.33            Yes   \n",
       "\n",
       "  Internet Service Internet Type  Avg Monthly GB Download Online Security  \\\n",
       "0              Yes           DSL                        8              No   \n",
       "1              Yes   Fiber Optic                       17              No   \n",
       "2              Yes   Fiber Optic                       52              No   \n",
       "3              Yes   Fiber Optic                       12              No   \n",
       "4              Yes   Fiber Optic                       14              No   \n",
       "\n",
       "  Online Backup Device Protection Plan Premium Tech Support Streaming TV  \\\n",
       "0            No                    Yes                   No           No   \n",
       "1           Yes                     No                   No           No   \n",
       "2            No                     No                   No          Yes   \n",
       "3           Yes                    Yes                   No          Yes   \n",
       "4            No                     No                   No           No   \n",
       "\n",
       "  Streaming Movies Streaming Music Unlimited Data        Contract  \\\n",
       "0              Yes              No             No  Month-to-Month   \n",
       "1               No              No            Yes  Month-to-Month   \n",
       "2              Yes             Yes            Yes  Month-to-Month   \n",
       "3              Yes              No            Yes  Month-to-Month   \n",
       "4               No              No            Yes  Month-to-Month   \n",
       "\n",
       "  Paperless Billing   Payment Method  Monthly Charge  Total Charges  \\\n",
       "0               Yes  Bank Withdrawal           39.65          39.65   \n",
       "1               Yes      Credit Card           80.65         633.30   \n",
       "2               Yes  Bank Withdrawal           95.45        1752.55   \n",
       "3               Yes  Bank Withdrawal           98.50        2514.50   \n",
       "4               Yes  Bank Withdrawal           76.50        2868.15   \n",
       "\n",
       "   Total Refunds  Total Extra Data Charges  Total Long Distance Charges  \\\n",
       "0           0.00                        20                         0.00   \n",
       "1           0.00                         0                       390.80   \n",
       "2          45.61                         0                       203.94   \n",
       "3          13.43                         0                       494.00   \n",
       "4           0.00                         0                       234.21   \n",
       "\n",
       "   Total Revenue  \n",
       "0          59.65  \n",
       "1        1024.10  \n",
       "2        1910.88  \n",
       "3        2995.07  \n",
       "4        3102.36  "
      ]
     },
     "execution_count": 31,
     "metadata": {},
     "output_type": "execute_result"
    }
   ],
   "source": [
    "telecom.head()"
   ]
  },
  {
   "cell_type": "code",
   "execution_count": 32,
   "metadata": {},
   "outputs": [
    {
     "data": {
      "image/png": "[encoded data removed]",
      "text/plain": [
       "<Figure size 432x288 with 1 Axes>"
      ]
     },
     "metadata": {},
     "output_type": "display_data"
    }
   ],
   "source": [
    "telecom['Premium Tech Support'].value_counts().plot(kind='pie', autopct='%2.0f%%', fontsize='18', \n",
    "                                        colors = ['#F11A05','#43E206'], shadow =True)\n",
    "plt.show()"
   ]
  },
  {
   "cell_type": "markdown",
   "metadata": {},
   "source": [
    "Most of the customer not using premium tech support hecnce we are not going to we can ignore in analysis"
   ]
  },
  {
   "cell_type": "code",
   "execution_count": 33,
   "metadata": {},
   "outputs": [
    {
     "data": {
      "image/png": "[encoded data removed]",
      "text/plain": [
       "<Figure size 432x288 with 1 Axes>"
      ]
     },
     "metadata": {},
     "output_type": "display_data"
    }
   ],
   "source": [
    "telecom['Streaming TV'].value_counts().plot(kind='pie', autopct='%2.0f%%', fontsize='18', \n",
    "                                        colors = ['#F11A05','#43E206'], shadow =True)\n",
    "plt.show()"
   ]
  },
  {
   "cell_type": "code",
   "execution_count": 34,
   "metadata": {},
   "outputs": [
    {
     "data": {
      "image/png": "[encoded data removed]",
      "text/plain": [
       "<Figure size 432x288 with 1 Axes>"
      ]
     },
     "metadata": {},
     "output_type": "display_data"
    }
   ],
   "source": [
    "telecom['Streaming Movies'].value_counts().plot(kind='pie', autopct='%2.0f%%', fontsize='18', \n",
    "                                        colors = ['#F11A05','#43E206'], shadow =True)\n",
    "plt.show()"
   ]
  },
  {
   "cell_type": "code",
   "execution_count": 35,
   "metadata": {},
   "outputs": [
    {
     "data": {
      "image/png": "[encoded data removed]",
      "text/plain": [
       "<Figure size 432x288 with 1 Axes>"
      ]
     },
     "metadata": {},
     "output_type": "display_data"
    }
   ],
   "source": [
    "telecom['Streaming Music'].value_counts().plot(kind='pie', autopct='%2.0f%%', fontsize='18', \n",
    "                                        colors = ['#F11A05','#43E206'], shadow =True)\n",
    "plt.show()"
   ]
  },
  {
   "cell_type": "code",
   "execution_count": 37,
   "metadata": {},
   "outputs": [
    {
     "data": {
      "image/png": "[encoded data removed]",
      "text/plain": [
       "<Figure size 432x288 with 1 Axes>"
      ]
     },
     "metadata": {},
     "output_type": "display_data"
    }
   ],
   "source": [
    "telecom['Unlimited Data'].value_counts().plot(kind='pie', autopct='%2.0f%%', fontsize='18', \n",
    "                                        colors = ['#F11A05','#43E206'], shadow =True)\n",
    "plt.show()"
   ]
  },
  {
   "cell_type": "code",
   "execution_count": 38,
   "metadata": {},
   "outputs": [
    {
     "data": {
      "image/png": "[encoded data removed]",
      "text/plain": [
       "<Figure size 432x288 with 1 Axes>"
      ]
     },
     "metadata": {},
     "output_type": "display_data"
    }
   ],
   "source": [
    "telecom['Paperless Billing'].value_counts().plot(kind='pie', autopct='%2.0f%%', fontsize='18', \n",
    "                                        colors = ['#F11A05','#43E206'], shadow =True)\n",
    "plt.show()"
   ]
  },
  {
   "cell_type": "markdown",
   "metadata": {},
   "source": [
    "#in different streaming services we onbserve that most of the customer using same kind of service so this feature not that much useful in our analysis"
   ]
  },
  {
   "cell_type": "code",
   "execution_count": 44,
   "metadata": {},
   "outputs": [],
   "source": [
    "telecom_data.drop(['Online Security',\n",
    "              'Phone Service',\n",
    "              'Internet Service',\n",
    "              'Online Backup',\n",
    "              'Device Protection Plan',\n",
    "              'Premium Tech Support',\n",
    "              'Unlimited Data',\n",
    "             'Streaming TV',\n",
    "             'Streaming Movies',\n",
    "             'Streaming Music'],axis=1,inplace=True)"
   ]
  },
  {
   "cell_type": "code",
   "execution_count": 43,
   "metadata": {},
   "outputs": [],
   "source": [
    "telecom_data = telecom.copy()"
   ]
  },
  {
   "cell_type": "code",
   "execution_count": 45,
   "metadata": {},
   "outputs": [
    {
     "data": {
      "text/plain": [
       "(7043, 17)"
      ]
     },
     "execution_count": 45,
     "metadata": {},
     "output_type": "execute_result"
    }
   ],
   "source": [
    "telecom_data.shape"
   ]
  },
  {
   "cell_type": "code",
   "execution_count": 46,
   "metadata": {},
   "outputs": [
    {
     "data": {
      "text/plain": [
       "(7043, 27)"
      ]
     },
     "execution_count": 46,
     "metadata": {},
     "output_type": "execute_result"
    }
   ],
   "source": [
    "telecom.shape"
   ]
  },
  {
   "cell_type": "code",
   "execution_count": 47,
   "metadata": {},
   "outputs": [
    {
     "data": {
      "text/html": [
       "<div>\n",
       "<style scoped>\n",
       "    .dataframe tbody tr th:only-of-type {\n",
       "        vertical-align: middle;\n",
       "    }\n",
       "\n",
       "    .dataframe tbody tr th {\n",
       "        vertical-align: top;\n",
       "    }\n",
       "\n",
       "    .dataframe thead th {\n",
       "        text-align: right;\n",
       "    }\n",
       "</style>\n",
       "<table border=\"1\" class=\"dataframe\">\n",
       "  <thead>\n",
       "    <tr style=\"text-align: right;\">\n",
       "      <th></th>\n",
       "      <th>Referred a Friend</th>\n",
       "      <th>Number of Referrals</th>\n",
       "      <th>Tenure in Months</th>\n",
       "      <th>Offer</th>\n",
       "      <th>Avg Monthly Long Distance Charges</th>\n",
       "      <th>Multiple Lines</th>\n",
       "      <th>Internet Type</th>\n",
       "      <th>Avg Monthly GB Download</th>\n",
       "      <th>Contract</th>\n",
       "      <th>Paperless Billing</th>\n",
       "      <th>Payment Method</th>\n",
       "      <th>Monthly Charge</th>\n",
       "      <th>Total Charges</th>\n",
       "      <th>Total Refunds</th>\n",
       "      <th>Total Extra Data Charges</th>\n",
       "      <th>Total Long Distance Charges</th>\n",
       "      <th>Total Revenue</th>\n",
       "    </tr>\n",
       "  </thead>\n",
       "  <tbody>\n",
       "    <tr>\n",
       "      <th>0</th>\n",
       "      <td>No</td>\n",
       "      <td>0</td>\n",
       "      <td>1</td>\n",
       "      <td>None</td>\n",
       "      <td>0.00</td>\n",
       "      <td>No</td>\n",
       "      <td>DSL</td>\n",
       "      <td>8</td>\n",
       "      <td>Month-to-Month</td>\n",
       "      <td>Yes</td>\n",
       "      <td>Bank Withdrawal</td>\n",
       "      <td>39.65</td>\n",
       "      <td>39.65</td>\n",
       "      <td>0.00</td>\n",
       "      <td>20</td>\n",
       "      <td>0.00</td>\n",
       "      <td>59.65</td>\n",
       "    </tr>\n",
       "    <tr>\n",
       "      <th>1</th>\n",
       "      <td>Yes</td>\n",
       "      <td>1</td>\n",
       "      <td>8</td>\n",
       "      <td>Offer E</td>\n",
       "      <td>48.85</td>\n",
       "      <td>Yes</td>\n",
       "      <td>Fiber Optic</td>\n",
       "      <td>17</td>\n",
       "      <td>Month-to-Month</td>\n",
       "      <td>Yes</td>\n",
       "      <td>Credit Card</td>\n",
       "      <td>80.65</td>\n",
       "      <td>633.30</td>\n",
       "      <td>0.00</td>\n",
       "      <td>0</td>\n",
       "      <td>390.80</td>\n",
       "      <td>1024.10</td>\n",
       "    </tr>\n",
       "    <tr>\n",
       "      <th>2</th>\n",
       "      <td>No</td>\n",
       "      <td>0</td>\n",
       "      <td>18</td>\n",
       "      <td>Offer D</td>\n",
       "      <td>11.33</td>\n",
       "      <td>Yes</td>\n",
       "      <td>Fiber Optic</td>\n",
       "      <td>52</td>\n",
       "      <td>Month-to-Month</td>\n",
       "      <td>Yes</td>\n",
       "      <td>Bank Withdrawal</td>\n",
       "      <td>95.45</td>\n",
       "      <td>1752.55</td>\n",
       "      <td>45.61</td>\n",
       "      <td>0</td>\n",
       "      <td>203.94</td>\n",
       "      <td>1910.88</td>\n",
       "    </tr>\n",
       "    <tr>\n",
       "      <th>3</th>\n",
       "      <td>Yes</td>\n",
       "      <td>1</td>\n",
       "      <td>25</td>\n",
       "      <td>Offer C</td>\n",
       "      <td>19.76</td>\n",
       "      <td>No</td>\n",
       "      <td>Fiber Optic</td>\n",
       "      <td>12</td>\n",
       "      <td>Month-to-Month</td>\n",
       "      <td>Yes</td>\n",
       "      <td>Bank Withdrawal</td>\n",
       "      <td>98.50</td>\n",
       "      <td>2514.50</td>\n",
       "      <td>13.43</td>\n",
       "      <td>0</td>\n",
       "      <td>494.00</td>\n",
       "      <td>2995.07</td>\n",
       "    </tr>\n",
       "    <tr>\n",
       "      <th>4</th>\n",
       "      <td>Yes</td>\n",
       "      <td>1</td>\n",
       "      <td>37</td>\n",
       "      <td>Offer C</td>\n",
       "      <td>6.33</td>\n",
       "      <td>Yes</td>\n",
       "      <td>Fiber Optic</td>\n",
       "      <td>14</td>\n",
       "      <td>Month-to-Month</td>\n",
       "      <td>Yes</td>\n",
       "      <td>Bank Withdrawal</td>\n",
       "      <td>76.50</td>\n",
       "      <td>2868.15</td>\n",
       "      <td>0.00</td>\n",
       "      <td>0</td>\n",
       "      <td>234.21</td>\n",
       "      <td>3102.36</td>\n",
       "    </tr>\n",
       "  </tbody>\n",
       "</table>\n",
       "</div>"
      ],
      "text/plain": [
       "  Referred a Friend  Number of Referrals  Tenure in Months    Offer  \\\n",
       "0                No                    0                 1     None   \n",
       "1               Yes                    1                 8  Offer E   \n",
       "2                No                    0                18  Offer D   \n",
       "3               Yes                    1                25  Offer C   \n",
       "4               Yes                    1                37  Offer C   \n",
       "\n",
       "   Avg Monthly Long Distance Charges Multiple Lines Internet Type  \\\n",
       "0                               0.00             No           DSL   \n",
       "1                              48.85            Yes   Fiber Optic   \n",
       "2                              11.33            Yes   Fiber Optic   \n",
       "3                              19.76             No   Fiber Optic   \n",
       "4                               6.33            Yes   Fiber Optic   \n",
       "\n",
       "   Avg Monthly GB Download        Contract Paperless Billing   Payment Method  \\\n",
       "0                        8  Month-to-Month               Yes  Bank Withdrawal   \n",
       "1                       17  Month-to-Month               Yes      Credit Card   \n",
       "2                       52  Month-to-Month               Yes  Bank Withdrawal   \n",
       "3                       12  Month-to-Month               Yes  Bank Withdrawal   \n",
       "4                       14  Month-to-Month               Yes  Bank Withdrawal   \n",
       "\n",
       "   Monthly Charge  Total Charges  Total Refunds  Total Extra Data Charges  \\\n",
       "0           39.65          39.65           0.00                        20   \n",
       "1           80.65         633.30           0.00                         0   \n",
       "2           95.45        1752.55          45.61                         0   \n",
       "3           98.50        2514.50          13.43                         0   \n",
       "4           76.50        2868.15           0.00                         0   \n",
       "\n",
       "   Total Long Distance Charges  Total Revenue  \n",
       "0                         0.00          59.65  \n",
       "1                       390.80        1024.10  \n",
       "2                       203.94        1910.88  \n",
       "3                       494.00        2995.07  \n",
       "4                       234.21        3102.36  "
      ]
     },
     "execution_count": 47,
     "metadata": {},
     "output_type": "execute_result"
    }
   ],
   "source": [
    "telecom_data.head()"
   ]
  },
  {
   "cell_type": "code",
   "execution_count": 48,
   "metadata": {},
   "outputs": [
    {
     "data": {
      "text/html": [
       "<div>\n",
       "<style scoped>\n",
       "    .dataframe tbody tr th:only-of-type {\n",
       "        vertical-align: middle;\n",
       "    }\n",
       "\n",
       "    .dataframe tbody tr th {\n",
       "        vertical-align: top;\n",
       "    }\n",
       "\n",
       "    .dataframe thead th {\n",
       "        text-align: right;\n",
       "    }\n",
       "</style>\n",
       "<table border=\"1\" class=\"dataframe\">\n",
       "  <thead>\n",
       "    <tr style=\"text-align: right;\">\n",
       "      <th></th>\n",
       "      <th>Number of Referrals</th>\n",
       "      <th>Tenure in Months</th>\n",
       "      <th>Avg Monthly Long Distance Charges</th>\n",
       "      <th>Avg Monthly GB Download</th>\n",
       "      <th>Monthly Charge</th>\n",
       "      <th>Total Charges</th>\n",
       "      <th>Total Refunds</th>\n",
       "      <th>Total Extra Data Charges</th>\n",
       "      <th>Total Long Distance Charges</th>\n",
       "      <th>Total Revenue</th>\n",
       "    </tr>\n",
       "  </thead>\n",
       "  <tbody>\n",
       "    <tr>\n",
       "      <th>Number of Referrals</th>\n",
       "      <td>1.000000</td>\n",
       "      <td>0.326975</td>\n",
       "      <td>0.006336</td>\n",
       "      <td>0.038575</td>\n",
       "      <td>0.028173</td>\n",
       "      <td>0.250378</td>\n",
       "      <td>0.024756</td>\n",
       "      <td>0.000350</td>\n",
       "      <td>0.216190</td>\n",
       "      <td>0.261853</td>\n",
       "    </tr>\n",
       "    <tr>\n",
       "      <th>Tenure in Months</th>\n",
       "      <td>0.326975</td>\n",
       "      <td>1.000000</td>\n",
       "      <td>0.014596</td>\n",
       "      <td>0.049119</td>\n",
       "      <td>0.247582</td>\n",
       "      <td>0.826074</td>\n",
       "      <td>0.059021</td>\n",
       "      <td>0.082266</td>\n",
       "      <td>0.674149</td>\n",
       "      <td>0.853146</td>\n",
       "    </tr>\n",
       "    <tr>\n",
       "      <th>Avg Monthly Long Distance Charges</th>\n",
       "      <td>0.006336</td>\n",
       "      <td>0.014596</td>\n",
       "      <td>1.000000</td>\n",
       "      <td>-0.030455</td>\n",
       "      <td>0.138396</td>\n",
       "      <td>0.069500</td>\n",
       "      <td>-0.018644</td>\n",
       "      <td>0.002414</td>\n",
       "      <td>0.599828</td>\n",
       "      <td>0.232291</td>\n",
       "    </tr>\n",
       "    <tr>\n",
       "      <th>Avg Monthly GB Download</th>\n",
       "      <td>0.038575</td>\n",
       "      <td>0.049119</td>\n",
       "      <td>-0.030455</td>\n",
       "      <td>1.000000</td>\n",
       "      <td>0.391787</td>\n",
       "      <td>0.223268</td>\n",
       "      <td>0.002397</td>\n",
       "      <td>0.088939</td>\n",
       "      <td>0.011373</td>\n",
       "      <td>0.180726</td>\n",
       "    </tr>\n",
       "    <tr>\n",
       "      <th>Monthly Charge</th>\n",
       "      <td>0.028173</td>\n",
       "      <td>0.247582</td>\n",
       "      <td>0.138396</td>\n",
       "      <td>0.391787</td>\n",
       "      <td>1.000000</td>\n",
       "      <td>0.651236</td>\n",
       "      <td>0.033482</td>\n",
       "      <td>0.126244</td>\n",
       "      <td>0.246300</td>\n",
       "      <td>0.588887</td>\n",
       "    </tr>\n",
       "    <tr>\n",
       "      <th>Total Charges</th>\n",
       "      <td>0.250378</td>\n",
       "      <td>0.826074</td>\n",
       "      <td>0.069500</td>\n",
       "      <td>0.223268</td>\n",
       "      <td>0.651236</td>\n",
       "      <td>1.000000</td>\n",
       "      <td>0.039558</td>\n",
       "      <td>0.121859</td>\n",
       "      <td>0.610185</td>\n",
       "      <td>0.972212</td>\n",
       "    </tr>\n",
       "    <tr>\n",
       "      <th>Total Refunds</th>\n",
       "      <td>0.024756</td>\n",
       "      <td>0.059021</td>\n",
       "      <td>-0.018644</td>\n",
       "      <td>0.002397</td>\n",
       "      <td>0.033482</td>\n",
       "      <td>0.039558</td>\n",
       "      <td>1.000000</td>\n",
       "      <td>0.016755</td>\n",
       "      <td>0.028113</td>\n",
       "      <td>0.036984</td>\n",
       "    </tr>\n",
       "    <tr>\n",
       "      <th>Total Extra Data Charges</th>\n",
       "      <td>0.000350</td>\n",
       "      <td>0.082266</td>\n",
       "      <td>0.002414</td>\n",
       "      <td>0.088939</td>\n",
       "      <td>0.126244</td>\n",
       "      <td>0.121859</td>\n",
       "      <td>0.016755</td>\n",
       "      <td>1.000000</td>\n",
       "      <td>0.058871</td>\n",
       "      <td>0.122496</td>\n",
       "    </tr>\n",
       "    <tr>\n",
       "      <th>Total Long Distance Charges</th>\n",
       "      <td>0.216190</td>\n",
       "      <td>0.674149</td>\n",
       "      <td>0.599828</td>\n",
       "      <td>0.011373</td>\n",
       "      <td>0.246300</td>\n",
       "      <td>0.610185</td>\n",
       "      <td>0.028113</td>\n",
       "      <td>0.058871</td>\n",
       "      <td>1.000000</td>\n",
       "      <td>0.778559</td>\n",
       "    </tr>\n",
       "    <tr>\n",
       "      <th>Total Revenue</th>\n",
       "      <td>0.261853</td>\n",
       "      <td>0.853146</td>\n",
       "      <td>0.232291</td>\n",
       "      <td>0.180726</td>\n",
       "      <td>0.588887</td>\n",
       "      <td>0.972212</td>\n",
       "      <td>0.036984</td>\n",
       "      <td>0.122496</td>\n",
       "      <td>0.778559</td>\n",
       "      <td>1.000000</td>\n",
       "    </tr>\n",
       "  </tbody>\n",
       "</table>\n",
       "</div>"
      ],
      "text/plain": [
       "                                   Number of Referrals  Tenure in Months  \\\n",
       "Number of Referrals                           1.000000          0.326975   \n",
       "Tenure in Months                              0.326975          1.000000   \n",
       "Avg Monthly Long Distance Charges             0.006336          0.014596   \n",
       "Avg Monthly GB Download                       0.038575          0.049119   \n",
       "Monthly Charge                                0.028173          0.247582   \n",
       "Total Charges                                 0.250378          0.826074   \n",
       "Total Refunds                                 0.024756          0.059021   \n",
       "Total Extra Data Charges                      0.000350          0.082266   \n",
       "Total Long Distance Charges                   0.216190          0.674149   \n",
       "Total Revenue                                 0.261853          0.853146   \n",
       "\n",
       "                                   Avg Monthly Long Distance Charges  \\\n",
       "Number of Referrals                                         0.006336   \n",
       "Tenure in Months                                            0.014596   \n",
       "Avg Monthly Long Distance Charges                           1.000000   \n",
       "Avg Monthly GB Download                                    -0.030455   \n",
       "Monthly Charge                                              0.138396   \n",
       "Total Charges                                               0.069500   \n",
       "Total Refunds                                              -0.018644   \n",
       "Total Extra Data Charges                                    0.002414   \n",
       "Total Long Distance Charges                                 0.599828   \n",
       "Total Revenue                                               0.232291   \n",
       "\n",
       "                                   Avg Monthly GB Download  Monthly Charge  \\\n",
       "Number of Referrals                               0.038575        0.028173   \n",
       "Tenure in Months                                  0.049119        0.247582   \n",
       "Avg Monthly Long Distance Charges                -0.030455        0.138396   \n",
       "Avg Monthly GB Download                           1.000000        0.391787   \n",
       "Monthly Charge                                    0.391787        1.000000   \n",
       "Total Charges                                     0.223268        0.651236   \n",
       "Total Refunds                                     0.002397        0.033482   \n",
       "Total Extra Data Charges                          0.088939        0.126244   \n",
       "Total Long Distance Charges                       0.011373        0.246300   \n",
       "Total Revenue                                     0.180726        0.588887   \n",
       "\n",
       "                                   Total Charges  Total Refunds  \\\n",
       "Number of Referrals                     0.250378       0.024756   \n",
       "Tenure in Months                        0.826074       0.059021   \n",
       "Avg Monthly Long Distance Charges       0.069500      -0.018644   \n",
       "Avg Monthly GB Download                 0.223268       0.002397   \n",
       "Monthly Charge                          0.651236       0.033482   \n",
       "Total Charges                           1.000000       0.039558   \n",
       "Total Refunds                           0.039558       1.000000   \n",
       "Total Extra Data Charges                0.121859       0.016755   \n",
       "Total Long Distance Charges             0.610185       0.028113   \n",
       "Total Revenue                           0.972212       0.036984   \n",
       "\n",
       "                                   Total Extra Data Charges  \\\n",
       "Number of Referrals                                0.000350   \n",
       "Tenure in Months                                   0.082266   \n",
       "Avg Monthly Long Distance Charges                  0.002414   \n",
       "Avg Monthly GB Download                            0.088939   \n",
       "Monthly Charge                                     0.126244   \n",
       "Total Charges                                      0.121859   \n",
       "Total Refunds                                      0.016755   \n",
       "Total Extra Data Charges                           1.000000   \n",
       "Total Long Distance Charges                        0.058871   \n",
       "Total Revenue                                      0.122496   \n",
       "\n",
       "                                   Total Long Distance Charges  Total Revenue  \n",
       "Number of Referrals                                   0.216190       0.261853  \n",
       "Tenure in Months                                      0.674149       0.853146  \n",
       "Avg Monthly Long Distance Charges                     0.599828       0.232291  \n",
       "Avg Monthly GB Download                               0.011373       0.180726  \n",
       "Monthly Charge                                        0.246300       0.588887  \n",
       "Total Charges                                         0.610185       0.972212  \n",
       "Total Refunds                                         0.028113       0.036984  \n",
       "Total Extra Data Charges                              0.058871       0.122496  \n",
       "Total Long Distance Charges                           1.000000       0.778559  \n",
       "Total Revenue                                         0.778559       1.000000  "
      ]
     },
     "execution_count": 48,
     "metadata": {},
     "output_type": "execute_result"
    }
   ],
   "source": [
    "telecom_data.corr()"
   ]
  },
  {
   "cell_type": "code",
   "execution_count": 50,
   "metadata": {},
   "outputs": [
    {
     "data": {
      "text/plain": [
       "<AxesSubplot:>"
      ]
     },
     "execution_count": 50,
     "metadata": {},
     "output_type": "execute_result"
    },
    {
     "data": {
      "image/png": "[encoded data removed]",
      "text/plain": [
       "<Figure size 432x288 with 2 Axes>"
      ]
     },
     "metadata": {
      "needs_background": "light"
     },
     "output_type": "display_data"
    }
   ],
   "source": [
    "sns.heatmap(telecom_data.corr()>0.80, annot=True)"
   ]
  },
  {
   "cell_type": "markdown",
   "metadata": {},
   "source": [
    "Since there is no correlation between variables. So need not to go with PCA. Before applying clustering. For the First Stage"
   ]
  },
  {
   "cell_type": "code",
   "execution_count": 59,
   "metadata": {},
   "outputs": [],
   "source": [
    "color = dict(boxes ='#db091c',\n",
    "        medians ='#0ff015',\n",
    "        whiskers ='#e41b83',\n",
    "        caps ='#0ff015')"
   ]
  },
  {
   "cell_type": "code",
   "execution_count": 60,
   "metadata": {},
   "outputs": [
    {
     "data": {
      "image/png": "[encoded data removed]",
      "text/plain": [
       "<Figure size 720x720 with 3 Axes>"
      ]
     },
     "metadata": {
      "needs_background": "light"
     },
     "output_type": "display_data"
    }
   ],
   "source": [
    "telecom_data[['Avg Monthly Long Distance Charges', 'Monthly Charge','Total Charges']].plot(\n",
    "    kind = 'box', \n",
    "    subplots = bool, \n",
    "    color = color,\n",
    "    figsize = (10,10))\n",
    "plt.show()\n"
   ]
  },
  {
   "cell_type": "markdown",
   "metadata": {},
   "source": [
    "No outliers here"
   ]
  },
  {
   "cell_type": "code",
   "execution_count": 62,
   "metadata": {},
   "outputs": [],
   "source": [
    "#label encoding\n",
    "from sklearn.preprocessing import LabelEncoder"
   ]
  },
  {
   "cell_type": "code",
   "execution_count": 63,
   "metadata": {},
   "outputs": [],
   "source": [
    "lb = LabelEncoder()"
   ]
  },
  {
   "cell_type": "code",
   "execution_count": 66,
   "metadata": {},
   "outputs": [],
   "source": [
    "telecom_data['Referred a Friend'] = lb.fit_transform(telecom_data['Referred a Friend'])"
   ]
  },
  {
   "cell_type": "code",
   "execution_count": 69,
   "metadata": {},
   "outputs": [],
   "source": [
    "telecom_data['Multiple Lines'] = lb.fit_transform(telecom_data['Multiple Lines'])"
   ]
  },
  {
   "cell_type": "code",
   "execution_count": 70,
   "metadata": {},
   "outputs": [],
   "source": [
    "telecom_data['Paperless Billing'] = lb.fit_transform(telecom_data['Paperless Billing'])"
   ]
  },
  {
   "cell_type": "code",
   "execution_count": 84,
   "metadata": {},
   "outputs": [],
   "source": [
    "#ordinal encoding\n",
    "offer_dict = {'None' : 0,'Offer B':1,'Offer E':2,'Offer D':3,'Offer A':4,'Offer C':5}"
   ]
  },
  {
   "cell_type": "code",
   "execution_count": 86,
   "metadata": {},
   "outputs": [],
   "source": [
    "telecom_data.Offer = telecom_data.Offer.map(offer_dict)"
   ]
  },
  {
   "cell_type": "code",
   "execution_count": 87,
   "metadata": {},
   "outputs": [
    {
     "data": {
      "text/plain": [
       "0    3877\n",
       "1     824\n",
       "2     805\n",
       "3     602\n",
       "4     520\n",
       "5     415\n",
       "Name: Offer, dtype: int64"
      ]
     },
     "execution_count": 87,
     "metadata": {},
     "output_type": "execute_result"
    }
   ],
   "source": [
    "telecom_data.Offer.value_counts()"
   ]
  },
  {
   "cell_type": "code",
   "execution_count": 90,
   "metadata": {},
   "outputs": [],
   "source": [
    "Contract_dict = {'Month-to-Month': 3, 'Two Year': 1, 'One Year': 2}"
   ]
  },
  {
   "cell_type": "code",
   "execution_count": 91,
   "metadata": {},
   "outputs": [],
   "source": [
    "telecom_data.Contract = telecom_data.Contract.map(Contract_dict)"
   ]
  },
  {
   "cell_type": "code",
   "execution_count": 92,
   "metadata": {},
   "outputs": [
    {
     "data": {
      "text/plain": [
       "Bank Withdrawal    3909\n",
       "Credit Card        2749\n",
       "Mailed Check        385\n",
       "Name: Payment Method, dtype: int64"
      ]
     },
     "execution_count": 92,
     "metadata": {},
     "output_type": "execute_result"
    }
   ],
   "source": [
    "telecom_data['Payment Method'].value_counts()"
   ]
  },
  {
   "cell_type": "code",
   "execution_count": 93,
   "metadata": {},
   "outputs": [],
   "source": [
    "pmt_meth = {'Bank Withdrawal':2,'Credit Card':1,'Mailed Check':3}"
   ]
  },
  {
   "cell_type": "code",
   "execution_count": 94,
   "metadata": {},
   "outputs": [],
   "source": [
    "telecom_data['Payment Method'] = telecom_data['Payment Method'].map(pmt_meth)"
   ]
  },
  {
   "cell_type": "code",
   "execution_count": 98,
   "metadata": {},
   "outputs": [],
   "source": [
    "telecom_data['Internet Type'] = telecom_data['Internet Type'].map(int_type)"
   ]
  },
  {
   "cell_type": "code",
   "execution_count": 97,
   "metadata": {},
   "outputs": [],
   "source": [
    "int_type = {'Fiber Optic': 1, 'DSL': 2, 'None': 0, 'Cable': 3}"
   ]
  },
  {
   "cell_type": "code",
   "execution_count": 99,
   "metadata": {},
   "outputs": [
    {
     "data": {
      "text/html": [
       "<div>\n",
       "<style scoped>\n",
       "    .dataframe tbody tr th:only-of-type {\n",
       "        vertical-align: middle;\n",
       "    }\n",
       "\n",
       "    .dataframe tbody tr th {\n",
       "        vertical-align: top;\n",
       "    }\n",
       "\n",
       "    .dataframe thead th {\n",
       "        text-align: right;\n",
       "    }\n",
       "</style>\n",
       "<table border=\"1\" class=\"dataframe\">\n",
       "  <thead>\n",
       "    <tr style=\"text-align: right;\">\n",
       "      <th></th>\n",
       "      <th>Referred a Friend</th>\n",
       "      <th>Number of Referrals</th>\n",
       "      <th>Tenure in Months</th>\n",
       "      <th>Offer</th>\n",
       "      <th>Avg Monthly Long Distance Charges</th>\n",
       "      <th>Multiple Lines</th>\n",
       "      <th>Internet Type</th>\n",
       "      <th>Avg Monthly GB Download</th>\n",
       "      <th>Contract</th>\n",
       "      <th>Paperless Billing</th>\n",
       "      <th>Payment Method</th>\n",
       "      <th>Monthly Charge</th>\n",
       "      <th>Total Charges</th>\n",
       "      <th>Total Refunds</th>\n",
       "      <th>Total Extra Data Charges</th>\n",
       "      <th>Total Long Distance Charges</th>\n",
       "      <th>Total Revenue</th>\n",
       "    </tr>\n",
       "  </thead>\n",
       "  <tbody>\n",
       "    <tr>\n",
       "      <th>0</th>\n",
       "      <td>0</td>\n",
       "      <td>0</td>\n",
       "      <td>1</td>\n",
       "      <td>0</td>\n",
       "      <td>0.00</td>\n",
       "      <td>0</td>\n",
       "      <td>2</td>\n",
       "      <td>8</td>\n",
       "      <td>3</td>\n",
       "      <td>1</td>\n",
       "      <td>2</td>\n",
       "      <td>39.65</td>\n",
       "      <td>39.65</td>\n",
       "      <td>0.00</td>\n",
       "      <td>20</td>\n",
       "      <td>0.00</td>\n",
       "      <td>59.65</td>\n",
       "    </tr>\n",
       "    <tr>\n",
       "      <th>1</th>\n",
       "      <td>1</td>\n",
       "      <td>1</td>\n",
       "      <td>8</td>\n",
       "      <td>2</td>\n",
       "      <td>48.85</td>\n",
       "      <td>1</td>\n",
       "      <td>1</td>\n",
       "      <td>17</td>\n",
       "      <td>3</td>\n",
       "      <td>1</td>\n",
       "      <td>1</td>\n",
       "      <td>80.65</td>\n",
       "      <td>633.30</td>\n",
       "      <td>0.00</td>\n",
       "      <td>0</td>\n",
       "      <td>390.80</td>\n",
       "      <td>1024.10</td>\n",
       "    </tr>\n",
       "    <tr>\n",
       "      <th>2</th>\n",
       "      <td>0</td>\n",
       "      <td>0</td>\n",
       "      <td>18</td>\n",
       "      <td>3</td>\n",
       "      <td>11.33</td>\n",
       "      <td>1</td>\n",
       "      <td>1</td>\n",
       "      <td>52</td>\n",
       "      <td>3</td>\n",
       "      <td>1</td>\n",
       "      <td>2</td>\n",
       "      <td>95.45</td>\n",
       "      <td>1752.55</td>\n",
       "      <td>45.61</td>\n",
       "      <td>0</td>\n",
       "      <td>203.94</td>\n",
       "      <td>1910.88</td>\n",
       "    </tr>\n",
       "    <tr>\n",
       "      <th>3</th>\n",
       "      <td>1</td>\n",
       "      <td>1</td>\n",
       "      <td>25</td>\n",
       "      <td>5</td>\n",
       "      <td>19.76</td>\n",
       "      <td>0</td>\n",
       "      <td>1</td>\n",
       "      <td>12</td>\n",
       "      <td>3</td>\n",
       "      <td>1</td>\n",
       "      <td>2</td>\n",
       "      <td>98.50</td>\n",
       "      <td>2514.50</td>\n",
       "      <td>13.43</td>\n",
       "      <td>0</td>\n",
       "      <td>494.00</td>\n",
       "      <td>2995.07</td>\n",
       "    </tr>\n",
       "    <tr>\n",
       "      <th>4</th>\n",
       "      <td>1</td>\n",
       "      <td>1</td>\n",
       "      <td>37</td>\n",
       "      <td>5</td>\n",
       "      <td>6.33</td>\n",
       "      <td>1</td>\n",
       "      <td>1</td>\n",
       "      <td>14</td>\n",
       "      <td>3</td>\n",
       "      <td>1</td>\n",
       "      <td>2</td>\n",
       "      <td>76.50</td>\n",
       "      <td>2868.15</td>\n",
       "      <td>0.00</td>\n",
       "      <td>0</td>\n",
       "      <td>234.21</td>\n",
       "      <td>3102.36</td>\n",
       "    </tr>\n",
       "    <tr>\n",
       "      <th>...</th>\n",
       "      <td>...</td>\n",
       "      <td>...</td>\n",
       "      <td>...</td>\n",
       "      <td>...</td>\n",
       "      <td>...</td>\n",
       "      <td>...</td>\n",
       "      <td>...</td>\n",
       "      <td>...</td>\n",
       "      <td>...</td>\n",
       "      <td>...</td>\n",
       "      <td>...</td>\n",
       "      <td>...</td>\n",
       "      <td>...</td>\n",
       "      <td>...</td>\n",
       "      <td>...</td>\n",
       "      <td>...</td>\n",
       "      <td>...</td>\n",
       "    </tr>\n",
       "    <tr>\n",
       "      <th>7038</th>\n",
       "      <td>0</td>\n",
       "      <td>0</td>\n",
       "      <td>72</td>\n",
       "      <td>0</td>\n",
       "      <td>22.77</td>\n",
       "      <td>0</td>\n",
       "      <td>0</td>\n",
       "      <td>0</td>\n",
       "      <td>1</td>\n",
       "      <td>1</td>\n",
       "      <td>2</td>\n",
       "      <td>21.15</td>\n",
       "      <td>1419.40</td>\n",
       "      <td>19.31</td>\n",
       "      <td>0</td>\n",
       "      <td>1639.44</td>\n",
       "      <td>3039.53</td>\n",
       "    </tr>\n",
       "    <tr>\n",
       "      <th>7039</th>\n",
       "      <td>1</td>\n",
       "      <td>1</td>\n",
       "      <td>24</td>\n",
       "      <td>5</td>\n",
       "      <td>36.05</td>\n",
       "      <td>1</td>\n",
       "      <td>3</td>\n",
       "      <td>24</td>\n",
       "      <td>2</td>\n",
       "      <td>1</td>\n",
       "      <td>3</td>\n",
       "      <td>84.80</td>\n",
       "      <td>1990.50</td>\n",
       "      <td>48.23</td>\n",
       "      <td>0</td>\n",
       "      <td>865.20</td>\n",
       "      <td>2807.47</td>\n",
       "    </tr>\n",
       "    <tr>\n",
       "      <th>7040</th>\n",
       "      <td>1</td>\n",
       "      <td>4</td>\n",
       "      <td>72</td>\n",
       "      <td>0</td>\n",
       "      <td>29.66</td>\n",
       "      <td>1</td>\n",
       "      <td>1</td>\n",
       "      <td>59</td>\n",
       "      <td>2</td>\n",
       "      <td>1</td>\n",
       "      <td>1</td>\n",
       "      <td>103.20</td>\n",
       "      <td>7362.90</td>\n",
       "      <td>45.38</td>\n",
       "      <td>0</td>\n",
       "      <td>2135.52</td>\n",
       "      <td>9453.04</td>\n",
       "    </tr>\n",
       "    <tr>\n",
       "      <th>7041</th>\n",
       "      <td>1</td>\n",
       "      <td>1</td>\n",
       "      <td>11</td>\n",
       "      <td>0</td>\n",
       "      <td>0.00</td>\n",
       "      <td>0</td>\n",
       "      <td>2</td>\n",
       "      <td>17</td>\n",
       "      <td>3</td>\n",
       "      <td>1</td>\n",
       "      <td>2</td>\n",
       "      <td>29.60</td>\n",
       "      <td>346.45</td>\n",
       "      <td>27.24</td>\n",
       "      <td>0</td>\n",
       "      <td>0.00</td>\n",
       "      <td>319.21</td>\n",
       "    </tr>\n",
       "    <tr>\n",
       "      <th>7042</th>\n",
       "      <td>0</td>\n",
       "      <td>0</td>\n",
       "      <td>66</td>\n",
       "      <td>0</td>\n",
       "      <td>30.96</td>\n",
       "      <td>0</td>\n",
       "      <td>1</td>\n",
       "      <td>11</td>\n",
       "      <td>1</td>\n",
       "      <td>1</td>\n",
       "      <td>2</td>\n",
       "      <td>105.65</td>\n",
       "      <td>6844.50</td>\n",
       "      <td>0.00</td>\n",
       "      <td>0</td>\n",
       "      <td>2043.36</td>\n",
       "      <td>8887.86</td>\n",
       "    </tr>\n",
       "  </tbody>\n",
       "</table>\n",
       "<p>7043 rows × 17 columns</p>\n",
       "</div>"
      ],
      "text/plain": [
       "      Referred a Friend  Number of Referrals  Tenure in Months  Offer  \\\n",
       "0                     0                    0                 1      0   \n",
       "1                     1                    1                 8      2   \n",
       "2                     0                    0                18      3   \n",
       "3                     1                    1                25      5   \n",
       "4                     1                    1                37      5   \n",
       "...                 ...                  ...               ...    ...   \n",
       "7038                  0                    0                72      0   \n",
       "7039                  1                    1                24      5   \n",
       "7040                  1                    4                72      0   \n",
       "7041                  1                    1                11      0   \n",
       "7042                  0                    0                66      0   \n",
       "\n",
       "      Avg Monthly Long Distance Charges  Multiple Lines  Internet Type  \\\n",
       "0                                  0.00               0              2   \n",
       "1                                 48.85               1              1   \n",
       "2                                 11.33               1              1   \n",
       "3                                 19.76               0              1   \n",
       "4                                  6.33               1              1   \n",
       "...                                 ...             ...            ...   \n",
       "7038                              22.77               0              0   \n",
       "7039                              36.05               1              3   \n",
       "7040                              29.66               1              1   \n",
       "7041                               0.00               0              2   \n",
       "7042                              30.96               0              1   \n",
       "\n",
       "      Avg Monthly GB Download  Contract  Paperless Billing  Payment Method  \\\n",
       "0                           8         3                  1               2   \n",
       "1                          17         3                  1               1   \n",
       "2                          52         3                  1               2   \n",
       "3                          12         3                  1               2   \n",
       "4                          14         3                  1               2   \n",
       "...                       ...       ...                ...             ...   \n",
       "7038                        0         1                  1               2   \n",
       "7039                       24         2                  1               3   \n",
       "7040                       59         2                  1               1   \n",
       "7041                       17         3                  1               2   \n",
       "7042                       11         1                  1               2   \n",
       "\n",
       "      Monthly Charge  Total Charges  Total Refunds  Total Extra Data Charges  \\\n",
       "0              39.65          39.65           0.00                        20   \n",
       "1              80.65         633.30           0.00                         0   \n",
       "2              95.45        1752.55          45.61                         0   \n",
       "3              98.50        2514.50          13.43                         0   \n",
       "4              76.50        2868.15           0.00                         0   \n",
       "...              ...            ...            ...                       ...   \n",
       "7038           21.15        1419.40          19.31                         0   \n",
       "7039           84.80        1990.50          48.23                         0   \n",
       "7040          103.20        7362.90          45.38                         0   \n",
       "7041           29.60         346.45          27.24                         0   \n",
       "7042          105.65        6844.50           0.00                         0   \n",
       "\n",
       "      Total Long Distance Charges  Total Revenue  \n",
       "0                            0.00          59.65  \n",
       "1                          390.80        1024.10  \n",
       "2                          203.94        1910.88  \n",
       "3                          494.00        2995.07  \n",
       "4                          234.21        3102.36  \n",
       "...                           ...            ...  \n",
       "7038                      1639.44        3039.53  \n",
       "7039                       865.20        2807.47  \n",
       "7040                      2135.52        9453.04  \n",
       "7041                         0.00         319.21  \n",
       "7042                      2043.36        8887.86  \n",
       "\n",
       "[7043 rows x 17 columns]"
      ]
     },
     "execution_count": 99,
     "metadata": {},
     "output_type": "execute_result"
    }
   ],
   "source": [
    "telecom_data"
   ]
  },
  {
   "cell_type": "code",
   "execution_count": 100,
   "metadata": {},
   "outputs": [
    {
     "data": {
      "image/png": "[encoded data removed]",
      "text/plain": [
       "<Figure size 720x720 with 4 Axes>"
      ]
     },
     "metadata": {
      "needs_background": "light"
     },
     "output_type": "display_data"
    }
   ],
   "source": [
    "telecom_data[['Total Refunds', 'Total Extra Data Charges','Total Long Distance Charges','Total Revenue']].plot(\n",
    "    kind = 'box', \n",
    "    subplots = bool, \n",
    "    color = color,\n",
    "    figsize = (10,10))\n",
    "plt.show()"
   ]
  },
  {
   "cell_type": "code",
   "execution_count": 101,
   "metadata": {},
   "outputs": [],
   "source": [
    "from feature_engine.outliers import Winsorizer\n",
    "winsor = Winsorizer(capping_method='iqr', # choose  IQR rule boundaries or gaussian for mean and std\n",
    "                          tail='right', # cap left, right or both tails \n",
    "                          fold=1.5,\n",
    "                          variables=[ 'Total Refunds', 'Total Extra Data Charges','Total Long Distance Charges','Total Revenue'])\n",
    "telecom_data = winsor.fit_transform(telecom_data)"
   ]
  },
  {
   "cell_type": "code",
   "execution_count": 102,
   "metadata": {},
   "outputs": [
    {
     "data": {
      "image/png": "[encoded data removed]",
      "text/plain": [
       "<Figure size 720x720 with 4 Axes>"
      ]
     },
     "metadata": {
      "needs_background": "light"
     },
     "output_type": "display_data"
    }
   ],
   "source": [
    "telecom_data[['Total Refunds', 'Total Extra Data Charges','Total Long Distance Charges','Total Revenue']].plot(\n",
    "    kind = 'box', \n",
    "    subplots = bool, \n",
    "    color = color,\n",
    "    figsize = (10,10))\n",
    "plt.show()"
   ]
  },
  {
   "cell_type": "markdown",
   "metadata": {},
   "source": [
    "Now we have treated outliers now we can apply KMeans and PCA for optimum feature selection and clustering"
   ]
  },
  {
   "cell_type": "code",
   "execution_count": 103,
   "metadata": {},
   "outputs": [
    {
     "data": {
      "text/plain": [
       "0.0    7043\n",
       "Name: Total Refunds, dtype: int64"
      ]
     },
     "execution_count": 103,
     "metadata": {},
     "output_type": "execute_result"
    }
   ],
   "source": [
    "telecom_data['Total Refunds'].value_counts()"
   ]
  },
  {
   "cell_type": "code",
   "execution_count": 105,
   "metadata": {},
   "outputs": [],
   "source": [
    "telecom_data['Total Refunds'] = telecom['Total Refunds'] #here by mistake I remove data from our target "
   ]
  },
  {
   "cell_type": "code",
   "execution_count": 110,
   "metadata": {},
   "outputs": [
    {
     "data": {
      "text/plain": [
       "0        0.00\n",
       "1        0.00\n",
       "2       45.61\n",
       "3       13.43\n",
       "4        0.00\n",
       "        ...  \n",
       "7038    19.31\n",
       "7039    48.23\n",
       "7040    45.38\n",
       "7041    27.24\n",
       "7042     0.00\n",
       "Name: Total Refunds, Length: 7043, dtype: float64"
      ]
     },
     "execution_count": 110,
     "metadata": {},
     "output_type": "execute_result"
    }
   ],
   "source": [
    "telecom_data['Total Refunds'] #our target columns is Total refund"
   ]
  },
  {
   "cell_type": "code",
   "execution_count": 112,
   "metadata": {},
   "outputs": [],
   "source": [
    "# Standardization of dataset1\n",
    "\n",
    "from sklearn.preprocessing import StandardScaler\n",
    "telecom_std = StandardScaler().fit_transform(telecom_data)"
   ]
  },
  {
   "cell_type": "code",
   "execution_count": 114,
   "metadata": {},
   "outputs": [
    {
     "data": {
      "text/plain": [
       "(7043, 17)"
      ]
     },
     "execution_count": 114,
     "metadata": {},
     "output_type": "execute_result"
    }
   ],
   "source": [
    "telecom_std.shape"
   ]
  },
  {
   "cell_type": "code",
   "execution_count": 117,
   "metadata": {},
   "outputs": [],
   "source": [
    "#using MinMax scaler\n",
    "from sklearn.preprocessing import MinMaxScaler\n",
    "telecome_minmax = MinMaxScaler()\n",
    "telecom_MinMax = telecome_minmax.fit_transform(telecom_data)"
   ]
  },
  {
   "cell_type": "code",
   "execution_count": 118,
   "metadata": {},
   "outputs": [
    {
     "data": {
      "text/plain": [
       "(7043, 17)"
      ]
     },
     "execution_count": 118,
     "metadata": {},
     "output_type": "execute_result"
    }
   ],
   "source": [
    "telecom_MinMax.shape"
   ]
  },
  {
   "cell_type": "markdown",
   "metadata": {},
   "source": [
    "#### Rinning PCA on std"
   ]
  },
  {
   "cell_type": "code",
   "execution_count": null,
   "metadata": {},
   "outputs": [],
   "source": [
    "# applying PCA on std_df\n",
    "\n",
    "# we are considering 95% variance in n_components to not loose any data."
   ]
  },
  {
   "cell_type": "code",
   "execution_count": 120,
   "metadata": {},
   "outputs": [],
   "source": [
    "from sklearn.decomposition import PCA\n",
    "pca_std = PCA(random_state=10, n_components=0.95)\n",
    "telecom_std_df = pca_std.fit_transform(telecom_std)"
   ]
  },
  {
   "cell_type": "code",
   "execution_count": 121,
   "metadata": {},
   "outputs": [
    {
     "data": {
      "text/plain": [
       "array([[-2.9297875 , -0.83681862,  0.56099586, ..., -0.61289482,\n",
       "         0.03447156, -0.38434068],\n",
       "       [-0.54163485, -0.48910316, -0.88099666, ..., -0.58413033,\n",
       "        -0.49209831,  0.27215848],\n",
       "       [-0.43945573, -2.42722421,  0.16544723, ...,  1.02773556,\n",
       "        -0.34639989, -0.25016762],\n",
       "       ...,\n",
       "       [ 4.76558763, -0.7686393 ,  0.33628558, ...,  1.1999315 ,\n",
       "         0.33628936, -0.74707303],\n",
       "       [-2.10556149, -0.26322475,  1.82296695, ..., -0.38937393,\n",
       "         0.12641959, -0.94918046],\n",
       "       [ 3.13060691, -0.36246138, -1.56581158, ...,  0.44632058,\n",
       "         0.94494293,  0.89222919]])"
      ]
     },
     "execution_count": 121,
     "metadata": {},
     "output_type": "execute_result"
    }
   ],
   "source": [
    "telecom_std_df"
   ]
  },
  {
   "cell_type": "code",
   "execution_count": 122,
   "metadata": {},
   "outputs": [
    {
     "data": {
      "text/plain": [
       "array([180.28218719, 121.63276028, 105.46968657,  91.29349363,\n",
       "        85.70913607,  84.22430667,  82.22660163,  79.23723166,\n",
       "        73.16012018,  62.31407376,  58.83564098,  50.17640194])"
      ]
     },
     "execution_count": 122,
     "metadata": {},
     "output_type": "execute_result"
    }
   ],
   "source": [
    "#eigne values\n",
    "pca_std.singular_values_\n"
   ]
  },
  {
   "cell_type": "code",
   "execution_count": 123,
   "metadata": {},
   "outputs": [
    {
     "data": {
      "text/plain": [
       "array([28.84217221, 13.12875228,  9.87137476,  7.39608652,  6.5189337 ,\n",
       "        6.29502151,  5.99994145,  5.57161267,  4.74975435,  3.4458361 ,\n",
       "        3.07187336,  2.23419646])"
      ]
     },
     "execution_count": 123,
     "metadata": {},
     "output_type": "execute_result"
    }
   ],
   "source": [
    "# variance containing in each formed PCA\n",
    "\n",
    "pca_std.explained_variance_ratio_*100"
   ]
  },
  {
   "cell_type": "code",
   "execution_count": 124,
   "metadata": {},
   "outputs": [],
   "source": [
    "#cummulative variance ratio\n",
    "#will give idea of how many num of PCA, the cummulative additon of variance will hive much info\n",
    "cum_var = np.cumsum(pca_std.explained_variance_ratio_*100)"
   ]
  },
  {
   "cell_type": "code",
   "execution_count": 125,
   "metadata": {},
   "outputs": [
    {
     "data": {
      "text/plain": [
       "array([28.84217221, 41.97092449, 51.84229925, 59.23838577, 65.75731947,\n",
       "       72.05234097, 78.05228242, 83.62389508, 88.37364944, 91.81948554,\n",
       "       94.8913589 , 97.12555536])"
      ]
     },
     "execution_count": 125,
     "metadata": {},
     "output_type": "execute_result"
    }
   ],
   "source": [
    "cum_var"
   ]
  },
  {
   "cell_type": "markdown",
   "metadata": {},
   "source": [
    "by applying PCA on standardized data with 95% variance it gives 12 PCA components"
   ]
  },
  {
   "cell_type": "markdown",
   "metadata": {},
   "source": [
    "### PCA on MINMAX "
   ]
  },
  {
   "cell_type": "code",
   "execution_count": 126,
   "metadata": {},
   "outputs": [],
   "source": [
    "pca_minmax = PCA(random_state=10, n_components=0.95)\n",
    "pca_minmax_df = pca_minmax.fit_transform(telecom_MinMax)"
   ]
  },
  {
   "cell_type": "code",
   "execution_count": 127,
   "metadata": {},
   "outputs": [
    {
     "data": {
      "text/plain": [
       "array([[-1.01152262, -0.36418333, -0.29957592, ...,  0.02549255,\n",
       "        -0.24405551, -0.04125114],\n",
       "       [ 0.1605507 , -0.49932109, -0.4114235 , ...,  0.24858536,\n",
       "         0.08916479, -0.19051322],\n",
       "       [-0.17379657, -0.9583156 ,  0.15011433, ..., -0.06738311,\n",
       "         0.22776576,  0.22714185],\n",
       "       ...,\n",
       "       [ 1.42684436, -0.36600665, -0.1145006 , ..., -0.27850019,\n",
       "         0.13316609,  0.27065282],\n",
       "       [-0.51127495,  0.01336561, -0.98389847, ...,  0.01491482,\n",
       "        -0.2889092 , -0.00688236],\n",
       "       [ 0.57453934, -0.21001   ,  0.44685223, ..., -0.24437626,\n",
       "         0.15942616, -0.229212  ]])"
      ]
     },
     "execution_count": 127,
     "metadata": {},
     "output_type": "execute_result"
    }
   ],
   "source": [
    "pca_minmax_df"
   ]
  },
  {
   "cell_type": "code",
   "execution_count": 128,
   "metadata": {},
   "outputs": [
    {
     "data": {
      "text/plain": [
       "array([60.75014197, 47.42209883, 39.3900015 , 34.2418721 , 30.69823756,\n",
       "       28.77173978, 26.8020037 , 23.44391617, 21.02954609, 17.7161856 ,\n",
       "       15.51070641])"
      ]
     },
     "execution_count": 128,
     "metadata": {},
     "output_type": "execute_result"
    }
   ],
   "source": [
    "# eigenvalues..\n",
    "\n",
    "pca_minmax.singular_values_"
   ]
  },
  {
   "cell_type": "code",
   "execution_count": 130,
   "metadata": {},
   "outputs": [
    {
     "data": {
      "text/plain": [
       "11"
      ]
     },
     "execution_count": 130,
     "metadata": {},
     "output_type": "execute_result"
    }
   ],
   "source": [
    "# variance containing in each formed PCA\n",
    "\n",
    "len(pca_minmax.explained_variance_ratio_*100)"
   ]
  },
  {
   "cell_type": "markdown",
   "metadata": {},
   "source": [
    "By applying PCA on MinMaxscalr transformation data gives 11 PCA components."
   ]
  },
  {
   "cell_type": "markdown",
   "metadata": {},
   "source": [
    "How many numbers of cluster. Also deciding which transformation data we will use to build model."
   ]
  },
  {
   "cell_type": "code",
   "execution_count": 131,
   "metadata": {},
   "outputs": [],
   "source": [
    "from yellowbrick.cluster import KElbowVisualizer"
   ]
  },
  {
   "cell_type": "code",
   "execution_count": 143,
   "metadata": {},
   "outputs": [],
   "source": [
    "# Instantiate a scikit-learn K-Means model. we will check for two diff hyperparameters value effect.\n",
    "model1 = KMeans(random_state=0)\n",
    "model2 = KMeans(random_state=10, max_iter=500, n_init=30)"
   ]
  },
  {
   "cell_type": "code",
   "execution_count": 144,
   "metadata": {},
   "outputs": [],
   "source": [
    "# Instantiate the KElbowVisualizer with the number of clusters and the metric\n",
    "visualizer1 = KElbowVisualizer(model1,\n",
    "                               k=(2, 10),\n",
    "                               metric='silhouette',\n",
    "                               timings=False)\n",
    "visualizer2 = KElbowVisualizer(model2,\n",
    "                               k=(2, 10),\n",
    "                               metric='silhouette',\n",
    "                               timings=False)"
   ]
  },
  {
   "cell_type": "code",
   "execution_count": 145,
   "metadata": {},
   "outputs": [
    {
     "name": "stdout",
     "output_type": "stream",
     "text": [
      "model1\n"
     ]
    },
    {
     "data": {
      "text/plain": [
       "<AxesSubplot:title={'center':'Silhouette Score Elbow for KMeans Clustering'}, xlabel='k', ylabel='silhouette score'>"
      ]
     },
     "execution_count": 145,
     "metadata": {},
     "output_type": "execute_result"
    }
   ],
   "source": [
    "print('model1')\n",
    "visualizer1.fit(telecom_std_df)\n",
    "# visualizer1.poof()----this method is deparcated\n",
    "visualizer1.show()"
   ]
  },
  {
   "cell_type": "code",
   "execution_count": 146,
   "metadata": {},
   "outputs": [
    {
     "name": "stdout",
     "output_type": "stream",
     "text": [
      "model2\n"
     ]
    },
    {
     "data": {
      "text/plain": [
       "<AxesSubplot:title={'center':'Silhouette Score Elbow for KMeans Clustering'}, xlabel='k', ylabel='silhouette score'>"
      ]
     },
     "execution_count": 146,
     "metadata": {},
     "output_type": "execute_result"
    }
   ],
   "source": [
    "print('model2')\n",
    "visualizer2.fit(telecom_std_df)\n",
    "# visualizer1.poof()----this method is deparcated\n",
    "visualizer1.show()"
   ]
  },
  {
   "cell_type": "code",
   "execution_count": null,
   "metadata": {},
   "outputs": [],
   "source": [
    "from sklearn.metrics import silhouette_score\n",
    "\n",
    "list1= [2,3,4,5,6,7,8,9]  # always start number from 2.\n",
    "\n",
    "for n_clusters in list1:\n",
    "    clusterer1 = KMeans(n_clusters=n_clusters, random_state=0)\n",
    "    cluster_labels1 = clusterer1.fit_predict(pca_std_df)\n",
    "    sil_score1= silhouette_score(pca_std_df, cluster_labels1)\n",
    "    print(\"For n_clusters =\", n_clusters,\"The average silhouette_score is :\", sil_score1)"
   ]
  },
  {
   "cell_type": "code",
   "execution_count": 153,
   "metadata": {},
   "outputs": [],
   "source": [
    "from sklearn.metrics import silhouette_score\n",
    "list1  = [1,3,4,5,6,7,8,9,10]"
   ]
  },
  {
   "cell_type": "code",
   "execution_count": 161,
   "metadata": {},
   "outputs": [
    {
     "data": {
      "image/png": "[encoded data removed]",
      "text/plain": [
       "<Figure size 720x720 with 1 Axes>"
      ]
     },
     "metadata": {},
     "output_type": "display_data"
    }
   ],
   "source": [
    "plt.figure(figsize=(10,10))\n",
    "WCSS = [] #Within cluster sum of squares\n",
    "\n",
    "for i in range(1,11):\n",
    "    Kmeans = KMeans(n_clusters=i, init='k-means++', random_state=10)\n",
    "    Kmeans.fit(telecom_std_df)\n",
    "    WCSS.append(Kmeans.inertia_)\n",
    "    \n",
    "plt.plot(range(1, 11), WCSS)\n",
    "plt.title('The Elbow Method')\n",
    "plt.xlabel('Number of clusters')\n",
    "plt.ylabel('WCSS')\n",
    "plt.show()"
   ]
  },
  {
   "cell_type": "code",
   "execution_count": 162,
   "metadata": {},
   "outputs": [
    {
     "data": {
      "image/png": "[encoded data removed]",
      "text/plain": [
       "<Figure size 720x720 with 1 Axes>"
      ]
     },
     "metadata": {},
     "output_type": "display_data"
    }
   ],
   "source": [
    "plt.figure(figsize=(10,10))\n",
    "WCSS = [] #Within cluster sum of squares\n",
    "\n",
    "for i in range(1,11):\n",
    "    Kmeans = KMeans(n_clusters=i, init='k-means++', random_state=10)\n",
    "    Kmeans.fit(pca_minmax_df)\n",
    "    WCSS.append(Kmeans.inertia_)\n",
    "    \n",
    "plt.plot(range(1, 11), WCSS)\n",
    "plt.title('The Elbow Method')\n",
    "plt.xlabel('Number of clusters')\n",
    "plt.ylabel('WCSS')\n",
    "plt.show()"
   ]
  },
  {
   "cell_type": "code",
   "execution_count": 171,
   "metadata": {},
   "outputs": [
    {
     "name": "stdout",
     "output_type": "stream",
     "text": [
      "For n_clusters = 2 The average silhouette_score is : 0.17862430685581535\n",
      "For n_clusters = 3 The average silhouette_score is : 0.17862430685581535\n",
      "For n_clusters = 4 The average silhouette_score is : 0.17862430685581535\n",
      "For n_clusters = 5 The average silhouette_score is : 0.17862430685581535\n",
      "For n_clusters = 6 The average silhouette_score is : 0.17862430685581535\n",
      "For n_clusters = 7 The average silhouette_score is : 0.17862430685581535\n",
      "For n_clusters = 8 The average silhouette_score is : 0.17862430685581535\n",
      "For n_clusters = 9 The average silhouette_score is : 0.17862430685581535\n"
     ]
    }
   ],
   "source": [
    "for n_clusters in list1:\n",
    "    clusterer1 = KMeans(n_clusters=6, random_state=0)\n",
    "    cluster_labels1 = clusterer1.fit_predict(telecom_std_df)\n",
    "    sil_score1= silhouette_score(telecom_std_df, cluster_labels1)\n",
    "    print(\"For n_clusters =\", n_clusters,\"The average silhouette_score is :\", sil_score2)"
   ]
  },
  {
   "cell_type": "code",
   "execution_count": 167,
   "metadata": {},
   "outputs": [
    {
     "data": {
      "text/plain": [
       "0.15692195030125908"
      ]
     },
     "execution_count": 167,
     "metadata": {},
     "output_type": "execute_result"
    }
   ],
   "source": [
    "sil_score1"
   ]
  },
  {
   "cell_type": "code",
   "execution_count": 170,
   "metadata": {},
   "outputs": [
    {
     "name": "stdout",
     "output_type": "stream",
     "text": [
      "For n_clusters = 2 The average silhouette_score is : 0.17862430685581535\n",
      "For n_clusters = 3 The average silhouette_score is : 0.17862430685581535\n",
      "For n_clusters = 4 The average silhouette_score is : 0.17862430685581535\n",
      "For n_clusters = 5 The average silhouette_score is : 0.17862430685581535\n",
      "For n_clusters = 6 The average silhouette_score is : 0.17862430685581535\n",
      "For n_clusters = 7 The average silhouette_score is : 0.17862430685581535\n",
      "For n_clusters = 8 The average silhouette_score is : 0.17862430685581535\n",
      "For n_clusters = 9 The average silhouette_score is : 0.17862430685581535\n"
     ]
    }
   ],
   "source": [
    "list1= [2,3,4,5,6,7,8,9]  # always start number from 2.\n",
    "\n",
    "for n_clusters in list1:\n",
    "    clusterer2 = KMeans(n_clusters=n_clusters, random_state=0)\n",
    "    cluster_labels2 = clusterer1.fit_predict(pca_minmax_df)\n",
    "    sil_score2= silhouette_score(pca_minmax_df, cluster_labels2)\n",
    "    print(\"For n_clusters =\", n_clusters,\"The average silhouette_score is :\", sil_score2)"
   ]
  },
  {
   "cell_type": "markdown",
   "metadata": {},
   "source": [
    "The range of Silhouette score is [-1, 1]. Its analysis is as follows −\n",
    "\n",
    "+1 Score − Near +1 Silhouette score indicates that the sample is far away from its neighboring cluster.\n",
    "\n",
    "0 Score − 0 Silhouette score indicates that the sample is on or very close to the decision boundary separating two neighboring clusters.\n",
    "\n",
    "-1 Score − 1 Silhouette score indicates that the samples have been assigned to the wrong clusters."
   ]
  },
  {
   "cell_type": "code",
   "execution_count": 174,
   "metadata": {},
   "outputs": [
    {
     "data": {
      "image/png": "[encoded data removed]",
      "text/plain": [
       "<Figure size 1080x432 with 2 Axes>"
      ]
     },
     "metadata": {},
     "output_type": "display_data"
    }
   ],
   "source": [
    "from yellowbrick.cluster import SilhouetteVisualizer\n",
    "\n",
    "fig,(ax1,ax2) = plt.subplots(1,2,sharey=False)\n",
    "fig.set_size_inches(15,6)\n",
    "\n",
    "\n",
    "\n",
    "sil_visualizer1 = SilhouetteVisualizer(model1,ax= ax1, colors=['#922B21','#5B2C6F','#1B4F72','#32a84a','#a83232','#323aa8'])\n",
    "sil_visualizer1.fit(telecom_std_df)\n",
    "\n",
    "\n",
    "# 2nd Plot showing the actual clusters formed\n",
    "\n",
    "import matplotlib.cm as cm\n",
    "colors1 = cm.nipy_spectral(model1.labels_.astype(float) / 6) # 6 is number of clusters\n",
    "ax2.scatter(telecom_std_df[:, 0], telecom_std_df[:, 1], marker='.', s=30, lw=0, alpha=0.7,\n",
    "                c=colors1, edgecolor='k')\n",
    "\n",
    "# Labeling the clusters\n",
    "centers1 = model1.cluster_centers_\n",
    "# Draw white circles at cluster centers\n",
    "ax2.scatter(centers1[:, 0], centers1[:, 1], marker='o',c=\"white\", alpha=1, s=200, edgecolor='k')\n",
    "\n",
    "for i, c in enumerate(centers1):\n",
    "    ax2.scatter(c[0], c[1], marker='$%d$' % i, alpha=1,s=50, edgecolor='k')\n",
    "\n",
    "\n",
    "ax2.set_title(label =\"The visualization of the clustered data.\")\n",
    "ax2.set_xlabel(\"Feature space for the 1st feature\")\n",
    "ax2.set_ylabel(\"Feature space for the 2nd feature\")\n",
    "\n",
    "plt.suptitle((\"Silhouette analysis for KMeans clustering on sample data \"\n",
    "                  \"with n_clusters = %d\" % 6),fontsize=14, fontweight='bold')\n",
    "\n",
    "sil_visualizer1.show()\n",
    "plt.show()"
   ]
  },
  {
   "cell_type": "code",
   "execution_count": 182,
   "metadata": {},
   "outputs": [
    {
     "data": {
      "text/plain": [
       "SilhouetteVisualizer(ax=<AxesSubplot:>,\n",
       "                     colors=['#922B21', '#5B2C6F', '#1B4F72', '#32a84a',\n",
       "                             '#a83232', '#323aa8'],\n",
       "                     estimator=KMeans(n_clusters=9, random_state=0))"
      ]
     },
     "execution_count": 182,
     "metadata": {},
     "output_type": "execute_result"
    },
    {
     "data": {
      "image/png": "[encoded data removed]",
      "text/plain": [
       "<Figure size 1080x432 with 2 Axes>"
      ]
     },
     "metadata": {},
     "output_type": "display_data"
    }
   ],
   "source": [
    "fig,(ax1,ax2) = plt.subplots(1,2,sharey=False)\n",
    "fig.set_size_inches(15,6)\n",
    "\n",
    "\n",
    "\n",
    "sil_visualizer1 = SilhouetteVisualizer(model1,ax= ax1, colors=['#922B21','#5B2C6F','#1B4F72','#32a84a','#a83232','#323aa8'])\n",
    "sil_visualizer1.fit(telecom_std_df)"
   ]
  },
  {
   "cell_type": "code",
   "execution_count": 175,
   "metadata": {},
   "outputs": [],
   "source": [
    "model1_cluster = pd.DataFrame(model1.labels_.copy(), columns=['Kmeans_Clustering'])"
   ]
  },
  {
   "cell_type": "code",
   "execution_count": 176,
   "metadata": {},
   "outputs": [
    {
     "data": {
      "text/html": [
       "<div>\n",
       "<style scoped>\n",
       "    .dataframe tbody tr th:only-of-type {\n",
       "        vertical-align: middle;\n",
       "    }\n",
       "\n",
       "    .dataframe tbody tr th {\n",
       "        vertical-align: top;\n",
       "    }\n",
       "\n",
       "    .dataframe thead th {\n",
       "        text-align: right;\n",
       "    }\n",
       "</style>\n",
       "<table border=\"1\" class=\"dataframe\">\n",
       "  <thead>\n",
       "    <tr style=\"text-align: right;\">\n",
       "      <th></th>\n",
       "      <th>Kmeans_Clustering</th>\n",
       "    </tr>\n",
       "  </thead>\n",
       "  <tbody>\n",
       "    <tr>\n",
       "      <th>0</th>\n",
       "      <td>4</td>\n",
       "    </tr>\n",
       "    <tr>\n",
       "      <th>1</th>\n",
       "      <td>1</td>\n",
       "    </tr>\n",
       "    <tr>\n",
       "      <th>2</th>\n",
       "      <td>6</td>\n",
       "    </tr>\n",
       "    <tr>\n",
       "      <th>3</th>\n",
       "      <td>8</td>\n",
       "    </tr>\n",
       "    <tr>\n",
       "      <th>4</th>\n",
       "      <td>8</td>\n",
       "    </tr>\n",
       "    <tr>\n",
       "      <th>...</th>\n",
       "      <td>...</td>\n",
       "    </tr>\n",
       "    <tr>\n",
       "      <th>7038</th>\n",
       "      <td>3</td>\n",
       "    </tr>\n",
       "    <tr>\n",
       "      <th>7039</th>\n",
       "      <td>6</td>\n",
       "    </tr>\n",
       "    <tr>\n",
       "      <th>7040</th>\n",
       "      <td>6</td>\n",
       "    </tr>\n",
       "    <tr>\n",
       "      <th>7041</th>\n",
       "      <td>6</td>\n",
       "    </tr>\n",
       "    <tr>\n",
       "      <th>7042</th>\n",
       "      <td>7</td>\n",
       "    </tr>\n",
       "  </tbody>\n",
       "</table>\n",
       "<p>7043 rows × 1 columns</p>\n",
       "</div>"
      ],
      "text/plain": [
       "      Kmeans_Clustering\n",
       "0                     4\n",
       "1                     1\n",
       "2                     6\n",
       "3                     8\n",
       "4                     8\n",
       "...                 ...\n",
       "7038                  3\n",
       "7039                  6\n",
       "7040                  6\n",
       "7041                  6\n",
       "7042                  7\n",
       "\n",
       "[7043 rows x 1 columns]"
      ]
     },
     "execution_count": 176,
     "metadata": {},
     "output_type": "execute_result"
    }
   ],
   "source": [
    "model1_cluster"
   ]
  },
  {
   "cell_type": "code",
   "execution_count": 177,
   "metadata": {},
   "outputs": [
    {
     "data": {
      "text/html": [
       "<div>\n",
       "<style scoped>\n",
       "    .dataframe tbody tr th:only-of-type {\n",
       "        vertical-align: middle;\n",
       "    }\n",
       "\n",
       "    .dataframe tbody tr th {\n",
       "        vertical-align: top;\n",
       "    }\n",
       "\n",
       "    .dataframe thead th {\n",
       "        text-align: right;\n",
       "    }\n",
       "</style>\n",
       "<table border=\"1\" class=\"dataframe\">\n",
       "  <thead>\n",
       "    <tr style=\"text-align: right;\">\n",
       "      <th></th>\n",
       "      <th>Referred a Friend</th>\n",
       "      <th>Number of Referrals</th>\n",
       "      <th>Tenure in Months</th>\n",
       "      <th>Offer</th>\n",
       "      <th>Phone Service</th>\n",
       "      <th>Avg Monthly Long Distance Charges</th>\n",
       "      <th>Multiple Lines</th>\n",
       "      <th>Internet Service</th>\n",
       "      <th>Internet Type</th>\n",
       "      <th>Avg Monthly GB Download</th>\n",
       "      <th>Online Security</th>\n",
       "      <th>Online Backup</th>\n",
       "      <th>Device Protection Plan</th>\n",
       "      <th>Premium Tech Support</th>\n",
       "      <th>Streaming TV</th>\n",
       "      <th>Streaming Movies</th>\n",
       "      <th>Streaming Music</th>\n",
       "      <th>Unlimited Data</th>\n",
       "      <th>Contract</th>\n",
       "      <th>Paperless Billing</th>\n",
       "      <th>Payment Method</th>\n",
       "      <th>Monthly Charge</th>\n",
       "      <th>Total Charges</th>\n",
       "      <th>Total Refunds</th>\n",
       "      <th>Total Extra Data Charges</th>\n",
       "      <th>Total Long Distance Charges</th>\n",
       "      <th>Total Revenue</th>\n",
       "      <th>Kmeans_Clustering</th>\n",
       "    </tr>\n",
       "  </thead>\n",
       "  <tbody>\n",
       "    <tr>\n",
       "      <th>0</th>\n",
       "      <td>No</td>\n",
       "      <td>0</td>\n",
       "      <td>1</td>\n",
       "      <td>None</td>\n",
       "      <td>No</td>\n",
       "      <td>0.00</td>\n",
       "      <td>No</td>\n",
       "      <td>Yes</td>\n",
       "      <td>DSL</td>\n",
       "      <td>8</td>\n",
       "      <td>No</td>\n",
       "      <td>No</td>\n",
       "      <td>Yes</td>\n",
       "      <td>No</td>\n",
       "      <td>No</td>\n",
       "      <td>Yes</td>\n",
       "      <td>No</td>\n",
       "      <td>No</td>\n",
       "      <td>Month-to-Month</td>\n",
       "      <td>Yes</td>\n",
       "      <td>Bank Withdrawal</td>\n",
       "      <td>39.65</td>\n",
       "      <td>39.65</td>\n",
       "      <td>0.00</td>\n",
       "      <td>20</td>\n",
       "      <td>0.00</td>\n",
       "      <td>59.65</td>\n",
       "      <td>4</td>\n",
       "    </tr>\n",
       "    <tr>\n",
       "      <th>1</th>\n",
       "      <td>Yes</td>\n",
       "      <td>1</td>\n",
       "      <td>8</td>\n",
       "      <td>Offer E</td>\n",
       "      <td>Yes</td>\n",
       "      <td>48.85</td>\n",
       "      <td>Yes</td>\n",
       "      <td>Yes</td>\n",
       "      <td>Fiber Optic</td>\n",
       "      <td>17</td>\n",
       "      <td>No</td>\n",
       "      <td>Yes</td>\n",
       "      <td>No</td>\n",
       "      <td>No</td>\n",
       "      <td>No</td>\n",
       "      <td>No</td>\n",
       "      <td>No</td>\n",
       "      <td>Yes</td>\n",
       "      <td>Month-to-Month</td>\n",
       "      <td>Yes</td>\n",
       "      <td>Credit Card</td>\n",
       "      <td>80.65</td>\n",
       "      <td>633.30</td>\n",
       "      <td>0.00</td>\n",
       "      <td>0</td>\n",
       "      <td>390.80</td>\n",
       "      <td>1024.10</td>\n",
       "      <td>1</td>\n",
       "    </tr>\n",
       "    <tr>\n",
       "      <th>2</th>\n",
       "      <td>No</td>\n",
       "      <td>0</td>\n",
       "      <td>18</td>\n",
       "      <td>Offer D</td>\n",
       "      <td>Yes</td>\n",
       "      <td>11.33</td>\n",
       "      <td>Yes</td>\n",
       "      <td>Yes</td>\n",
       "      <td>Fiber Optic</td>\n",
       "      <td>52</td>\n",
       "      <td>No</td>\n",
       "      <td>No</td>\n",
       "      <td>No</td>\n",
       "      <td>No</td>\n",
       "      <td>Yes</td>\n",
       "      <td>Yes</td>\n",
       "      <td>Yes</td>\n",
       "      <td>Yes</td>\n",
       "      <td>Month-to-Month</td>\n",
       "      <td>Yes</td>\n",
       "      <td>Bank Withdrawal</td>\n",
       "      <td>95.45</td>\n",
       "      <td>1752.55</td>\n",
       "      <td>45.61</td>\n",
       "      <td>0</td>\n",
       "      <td>203.94</td>\n",
       "      <td>1910.88</td>\n",
       "      <td>6</td>\n",
       "    </tr>\n",
       "    <tr>\n",
       "      <th>3</th>\n",
       "      <td>Yes</td>\n",
       "      <td>1</td>\n",
       "      <td>25</td>\n",
       "      <td>Offer C</td>\n",
       "      <td>Yes</td>\n",
       "      <td>19.76</td>\n",
       "      <td>No</td>\n",
       "      <td>Yes</td>\n",
       "      <td>Fiber Optic</td>\n",
       "      <td>12</td>\n",
       "      <td>No</td>\n",
       "      <td>Yes</td>\n",
       "      <td>Yes</td>\n",
       "      <td>No</td>\n",
       "      <td>Yes</td>\n",
       "      <td>Yes</td>\n",
       "      <td>No</td>\n",
       "      <td>Yes</td>\n",
       "      <td>Month-to-Month</td>\n",
       "      <td>Yes</td>\n",
       "      <td>Bank Withdrawal</td>\n",
       "      <td>98.50</td>\n",
       "      <td>2514.50</td>\n",
       "      <td>13.43</td>\n",
       "      <td>0</td>\n",
       "      <td>494.00</td>\n",
       "      <td>2995.07</td>\n",
       "      <td>8</td>\n",
       "    </tr>\n",
       "    <tr>\n",
       "      <th>4</th>\n",
       "      <td>Yes</td>\n",
       "      <td>1</td>\n",
       "      <td>37</td>\n",
       "      <td>Offer C</td>\n",
       "      <td>Yes</td>\n",
       "      <td>6.33</td>\n",
       "      <td>Yes</td>\n",
       "      <td>Yes</td>\n",
       "      <td>Fiber Optic</td>\n",
       "      <td>14</td>\n",
       "      <td>No</td>\n",
       "      <td>No</td>\n",
       "      <td>No</td>\n",
       "      <td>No</td>\n",
       "      <td>No</td>\n",
       "      <td>No</td>\n",
       "      <td>No</td>\n",
       "      <td>Yes</td>\n",
       "      <td>Month-to-Month</td>\n",
       "      <td>Yes</td>\n",
       "      <td>Bank Withdrawal</td>\n",
       "      <td>76.50</td>\n",
       "      <td>2868.15</td>\n",
       "      <td>0.00</td>\n",
       "      <td>0</td>\n",
       "      <td>234.21</td>\n",
       "      <td>3102.36</td>\n",
       "      <td>8</td>\n",
       "    </tr>\n",
       "  </tbody>\n",
       "</table>\n",
       "</div>"
      ],
      "text/plain": [
       "  Referred a Friend  Number of Referrals  Tenure in Months    Offer  \\\n",
       "0                No                    0                 1     None   \n",
       "1               Yes                    1                 8  Offer E   \n",
       "2                No                    0                18  Offer D   \n",
       "3               Yes                    1                25  Offer C   \n",
       "4               Yes                    1                37  Offer C   \n",
       "\n",
       "  Phone Service  Avg Monthly Long Distance Charges Multiple Lines  \\\n",
       "0            No                               0.00             No   \n",
       "1           Yes                              48.85            Yes   \n",
       "2           Yes                              11.33            Yes   \n",
       "3           Yes                              19.76             No   \n",
       "4           Yes                               6.33            Yes   \n",
       "\n",
       "  Internet Service Internet Type  Avg Monthly GB Download Online Security  \\\n",
       "0              Yes           DSL                        8              No   \n",
       "1              Yes   Fiber Optic                       17              No   \n",
       "2              Yes   Fiber Optic                       52              No   \n",
       "3              Yes   Fiber Optic                       12              No   \n",
       "4              Yes   Fiber Optic                       14              No   \n",
       "\n",
       "  Online Backup Device Protection Plan Premium Tech Support Streaming TV  \\\n",
       "0            No                    Yes                   No           No   \n",
       "1           Yes                     No                   No           No   \n",
       "2            No                     No                   No          Yes   \n",
       "3           Yes                    Yes                   No          Yes   \n",
       "4            No                     No                   No           No   \n",
       "\n",
       "  Streaming Movies Streaming Music Unlimited Data        Contract  \\\n",
       "0              Yes              No             No  Month-to-Month   \n",
       "1               No              No            Yes  Month-to-Month   \n",
       "2              Yes             Yes            Yes  Month-to-Month   \n",
       "3              Yes              No            Yes  Month-to-Month   \n",
       "4               No              No            Yes  Month-to-Month   \n",
       "\n",
       "  Paperless Billing   Payment Method  Monthly Charge  Total Charges  \\\n",
       "0               Yes  Bank Withdrawal           39.65          39.65   \n",
       "1               Yes      Credit Card           80.65         633.30   \n",
       "2               Yes  Bank Withdrawal           95.45        1752.55   \n",
       "3               Yes  Bank Withdrawal           98.50        2514.50   \n",
       "4               Yes  Bank Withdrawal           76.50        2868.15   \n",
       "\n",
       "   Total Refunds  Total Extra Data Charges  Total Long Distance Charges  \\\n",
       "0           0.00                        20                         0.00   \n",
       "1           0.00                         0                       390.80   \n",
       "2          45.61                         0                       203.94   \n",
       "3          13.43                         0                       494.00   \n",
       "4           0.00                         0                       234.21   \n",
       "\n",
       "   Total Revenue  Kmeans_Clustering  \n",
       "0          59.65                  4  \n",
       "1        1024.10                  1  \n",
       "2        1910.88                  6  \n",
       "3        2995.07                  8  \n",
       "4        3102.36                  8  "
      ]
     },
     "execution_count": 177,
     "metadata": {},
     "output_type": "execute_result"
    }
   ],
   "source": [
    "# Concating model1_Cluster df with main dataset copy\n",
    "\n",
    "Kmeans_df = pd.concat([telecom.copy(), model1_cluster], axis=1)\n",
    "Kmeans_df.head()"
   ]
  },
  {
   "cell_type": "code",
   "execution_count": 180,
   "metadata": {},
   "outputs": [
    {
     "data": {
      "image/png": "[encoded data removed]",
      "text/plain": [
       "<Figure size 720x432 with 1 Axes>"
      ]
     },
     "metadata": {},
     "output_type": "display_data"
    }
   ],
   "source": [
    "# Plotting barplot using groupby method to get visualize how many row no. in each cluster\n",
    "\n",
    "fig, ax = plt.subplots(figsize=(10, 6))\n",
    "Kmeans_df.groupby(['Kmeans_Clustering']).count()['Offer'].plot(kind='bar')\n",
    "plt.ylabel('ID Counts')\n",
    "plt.title('Kmeans Clustering (pca_std_df)',fontsize='large',fontweight='bold')\n",
    "ax.set_xlabel('Clusters', fontsize='large', fontweight='bold')\n",
    "ax.set_ylabel('Offer', fontsize='large', fontweight='bold')\n",
    "plt.yticks(fontsize=15)\n",
    "plt.xticks(fontsize=15)\n",
    "plt.show()"
   ]
  },
  {
   "cell_type": "markdown",
   "metadata": {},
   "source": [
    "customer from cluster 1,4,7 need attention"
   ]
  },
  {
   "cell_type": "code",
   "execution_count": 187,
   "metadata": {},
   "outputs": [
    {
     "data": {
      "text/html": [
       "<div>\n",
       "<style scoped>\n",
       "    .dataframe tbody tr th:only-of-type {\n",
       "        vertical-align: middle;\n",
       "    }\n",
       "\n",
       "    .dataframe tbody tr th {\n",
       "        vertical-align: top;\n",
       "    }\n",
       "\n",
       "    .dataframe thead th {\n",
       "        text-align: right;\n",
       "    }\n",
       "</style>\n",
       "<table border=\"1\" class=\"dataframe\">\n",
       "  <thead>\n",
       "    <tr style=\"text-align: right;\">\n",
       "      <th></th>\n",
       "      <th>Referred a Friend</th>\n",
       "      <th>Number of Referrals</th>\n",
       "      <th>Tenure in Months</th>\n",
       "      <th>Offer</th>\n",
       "      <th>Phone Service</th>\n",
       "      <th>Avg Monthly Long Distance Charges</th>\n",
       "      <th>Multiple Lines</th>\n",
       "      <th>Internet Service</th>\n",
       "      <th>Internet Type</th>\n",
       "      <th>Avg Monthly GB Download</th>\n",
       "      <th>Online Security</th>\n",
       "      <th>Online Backup</th>\n",
       "      <th>Device Protection Plan</th>\n",
       "      <th>Premium Tech Support</th>\n",
       "      <th>Streaming TV</th>\n",
       "      <th>Streaming Movies</th>\n",
       "      <th>Streaming Music</th>\n",
       "      <th>Unlimited Data</th>\n",
       "      <th>Contract</th>\n",
       "      <th>Paperless Billing</th>\n",
       "      <th>Payment Method</th>\n",
       "      <th>Monthly Charge</th>\n",
       "      <th>Total Charges</th>\n",
       "      <th>Total Refunds</th>\n",
       "      <th>Total Extra Data Charges</th>\n",
       "      <th>Total Long Distance Charges</th>\n",
       "      <th>Total Revenue</th>\n",
       "      <th>Kmeans_Clustering</th>\n",
       "    </tr>\n",
       "  </thead>\n",
       "  <tbody>\n",
       "    <tr>\n",
       "      <th>21</th>\n",
       "      <td>No</td>\n",
       "      <td>0</td>\n",
       "      <td>54</td>\n",
       "      <td>Offer B</td>\n",
       "      <td>Yes</td>\n",
       "      <td>12.08</td>\n",
       "      <td>Yes</td>\n",
       "      <td>Yes</td>\n",
       "      <td>DSL</td>\n",
       "      <td>5</td>\n",
       "      <td>Yes</td>\n",
       "      <td>Yes</td>\n",
       "      <td>No</td>\n",
       "      <td>Yes</td>\n",
       "      <td>Yes</td>\n",
       "      <td>Yes</td>\n",
       "      <td>Yes</td>\n",
       "      <td>Yes</td>\n",
       "      <td>One Year</td>\n",
       "      <td>No</td>\n",
       "      <td>Bank Withdrawal</td>\n",
       "      <td>82.45</td>\n",
       "      <td>4350.10</td>\n",
       "      <td>0.00</td>\n",
       "      <td>0</td>\n",
       "      <td>652.32</td>\n",
       "      <td>5002.42</td>\n",
       "      <td>7</td>\n",
       "    </tr>\n",
       "    <tr>\n",
       "      <th>36</th>\n",
       "      <td>Yes</td>\n",
       "      <td>3</td>\n",
       "      <td>49</td>\n",
       "      <td>Offer B</td>\n",
       "      <td>Yes</td>\n",
       "      <td>22.92</td>\n",
       "      <td>Yes</td>\n",
       "      <td>Yes</td>\n",
       "      <td>Fiber Optic</td>\n",
       "      <td>14</td>\n",
       "      <td>No</td>\n",
       "      <td>Yes</td>\n",
       "      <td>No</td>\n",
       "      <td>No</td>\n",
       "      <td>No</td>\n",
       "      <td>Yes</td>\n",
       "      <td>No</td>\n",
       "      <td>Yes</td>\n",
       "      <td>Month-to-Month</td>\n",
       "      <td>No</td>\n",
       "      <td>Credit Card</td>\n",
       "      <td>90.05</td>\n",
       "      <td>4547.25</td>\n",
       "      <td>0.00</td>\n",
       "      <td>0</td>\n",
       "      <td>1123.08</td>\n",
       "      <td>5670.33</td>\n",
       "      <td>7</td>\n",
       "    </tr>\n",
       "    <tr>\n",
       "      <th>37</th>\n",
       "      <td>Yes</td>\n",
       "      <td>1</td>\n",
       "      <td>43</td>\n",
       "      <td>Offer B</td>\n",
       "      <td>Yes</td>\n",
       "      <td>14.52</td>\n",
       "      <td>Yes</td>\n",
       "      <td>Yes</td>\n",
       "      <td>Fiber Optic</td>\n",
       "      <td>5</td>\n",
       "      <td>No</td>\n",
       "      <td>Yes</td>\n",
       "      <td>Yes</td>\n",
       "      <td>Yes</td>\n",
       "      <td>Yes</td>\n",
       "      <td>Yes</td>\n",
       "      <td>No</td>\n",
       "      <td>Yes</td>\n",
       "      <td>Month-to-Month</td>\n",
       "      <td>Yes</td>\n",
       "      <td>Bank Withdrawal</td>\n",
       "      <td>110.75</td>\n",
       "      <td>4687.90</td>\n",
       "      <td>0.00</td>\n",
       "      <td>0</td>\n",
       "      <td>624.36</td>\n",
       "      <td>5312.26</td>\n",
       "      <td>7</td>\n",
       "    </tr>\n",
       "    <tr>\n",
       "      <th>38</th>\n",
       "      <td>No</td>\n",
       "      <td>0</td>\n",
       "      <td>56</td>\n",
       "      <td>Offer B</td>\n",
       "      <td>Yes</td>\n",
       "      <td>48.80</td>\n",
       "      <td>Yes</td>\n",
       "      <td>Yes</td>\n",
       "      <td>Fiber Optic</td>\n",
       "      <td>12</td>\n",
       "      <td>Yes</td>\n",
       "      <td>No</td>\n",
       "      <td>Yes</td>\n",
       "      <td>No</td>\n",
       "      <td>Yes</td>\n",
       "      <td>Yes</td>\n",
       "      <td>No</td>\n",
       "      <td>Yes</td>\n",
       "      <td>One Year</td>\n",
       "      <td>Yes</td>\n",
       "      <td>Bank Withdrawal</td>\n",
       "      <td>104.55</td>\n",
       "      <td>5794.65</td>\n",
       "      <td>0.00</td>\n",
       "      <td>0</td>\n",
       "      <td>2732.80</td>\n",
       "      <td>8527.45</td>\n",
       "      <td>7</td>\n",
       "    </tr>\n",
       "    <tr>\n",
       "      <th>44</th>\n",
       "      <td>Yes</td>\n",
       "      <td>1</td>\n",
       "      <td>33</td>\n",
       "      <td>None</td>\n",
       "      <td>Yes</td>\n",
       "      <td>27.78</td>\n",
       "      <td>Yes</td>\n",
       "      <td>Yes</td>\n",
       "      <td>Fiber Optic</td>\n",
       "      <td>8</td>\n",
       "      <td>No</td>\n",
       "      <td>No</td>\n",
       "      <td>No</td>\n",
       "      <td>No</td>\n",
       "      <td>Yes</td>\n",
       "      <td>Yes</td>\n",
       "      <td>No</td>\n",
       "      <td>Yes</td>\n",
       "      <td>Month-to-Month</td>\n",
       "      <td>Yes</td>\n",
       "      <td>Bank Withdrawal</td>\n",
       "      <td>94.50</td>\n",
       "      <td>3105.55</td>\n",
       "      <td>0.00</td>\n",
       "      <td>0</td>\n",
       "      <td>916.74</td>\n",
       "      <td>4022.29</td>\n",
       "      <td>7</td>\n",
       "    </tr>\n",
       "    <tr>\n",
       "      <th>...</th>\n",
       "      <td>...</td>\n",
       "      <td>...</td>\n",
       "      <td>...</td>\n",
       "      <td>...</td>\n",
       "      <td>...</td>\n",
       "      <td>...</td>\n",
       "      <td>...</td>\n",
       "      <td>...</td>\n",
       "      <td>...</td>\n",
       "      <td>...</td>\n",
       "      <td>...</td>\n",
       "      <td>...</td>\n",
       "      <td>...</td>\n",
       "      <td>...</td>\n",
       "      <td>...</td>\n",
       "      <td>...</td>\n",
       "      <td>...</td>\n",
       "      <td>...</td>\n",
       "      <td>...</td>\n",
       "      <td>...</td>\n",
       "      <td>...</td>\n",
       "      <td>...</td>\n",
       "      <td>...</td>\n",
       "      <td>...</td>\n",
       "      <td>...</td>\n",
       "      <td>...</td>\n",
       "      <td>...</td>\n",
       "      <td>...</td>\n",
       "    </tr>\n",
       "    <tr>\n",
       "      <th>7022</th>\n",
       "      <td>Yes</td>\n",
       "      <td>1</td>\n",
       "      <td>62</td>\n",
       "      <td>Offer B</td>\n",
       "      <td>Yes</td>\n",
       "      <td>4.70</td>\n",
       "      <td>Yes</td>\n",
       "      <td>Yes</td>\n",
       "      <td>Cable</td>\n",
       "      <td>28</td>\n",
       "      <td>Yes</td>\n",
       "      <td>Yes</td>\n",
       "      <td>No</td>\n",
       "      <td>Yes</td>\n",
       "      <td>Yes</td>\n",
       "      <td>Yes</td>\n",
       "      <td>Yes</td>\n",
       "      <td>Yes</td>\n",
       "      <td>Two Year</td>\n",
       "      <td>Yes</td>\n",
       "      <td>Bank Withdrawal</td>\n",
       "      <td>84.95</td>\n",
       "      <td>5150.55</td>\n",
       "      <td>4.68</td>\n",
       "      <td>0</td>\n",
       "      <td>291.40</td>\n",
       "      <td>5437.27</td>\n",
       "      <td>7</td>\n",
       "    </tr>\n",
       "    <tr>\n",
       "      <th>7023</th>\n",
       "      <td>No</td>\n",
       "      <td>0</td>\n",
       "      <td>40</td>\n",
       "      <td>Offer B</td>\n",
       "      <td>Yes</td>\n",
       "      <td>2.83</td>\n",
       "      <td>Yes</td>\n",
       "      <td>Yes</td>\n",
       "      <td>Fiber Optic</td>\n",
       "      <td>22</td>\n",
       "      <td>No</td>\n",
       "      <td>Yes</td>\n",
       "      <td>Yes</td>\n",
       "      <td>No</td>\n",
       "      <td>Yes</td>\n",
       "      <td>No</td>\n",
       "      <td>No</td>\n",
       "      <td>Yes</td>\n",
       "      <td>Month-to-Month</td>\n",
       "      <td>Yes</td>\n",
       "      <td>Bank Withdrawal</td>\n",
       "      <td>93.40</td>\n",
       "      <td>3756.40</td>\n",
       "      <td>4.18</td>\n",
       "      <td>0</td>\n",
       "      <td>113.20</td>\n",
       "      <td>3865.42</td>\n",
       "      <td>7</td>\n",
       "    </tr>\n",
       "    <tr>\n",
       "      <th>7024</th>\n",
       "      <td>No</td>\n",
       "      <td>0</td>\n",
       "      <td>41</td>\n",
       "      <td>Offer B</td>\n",
       "      <td>Yes</td>\n",
       "      <td>41.85</td>\n",
       "      <td>Yes</td>\n",
       "      <td>Yes</td>\n",
       "      <td>Fiber Optic</td>\n",
       "      <td>16</td>\n",
       "      <td>No</td>\n",
       "      <td>Yes</td>\n",
       "      <td>No</td>\n",
       "      <td>No</td>\n",
       "      <td>Yes</td>\n",
       "      <td>No</td>\n",
       "      <td>No</td>\n",
       "      <td>Yes</td>\n",
       "      <td>Month-to-Month</td>\n",
       "      <td>Yes</td>\n",
       "      <td>Bank Withdrawal</td>\n",
       "      <td>89.20</td>\n",
       "      <td>3645.75</td>\n",
       "      <td>2.21</td>\n",
       "      <td>0</td>\n",
       "      <td>1715.85</td>\n",
       "      <td>5359.39</td>\n",
       "      <td>7</td>\n",
       "    </tr>\n",
       "    <tr>\n",
       "      <th>7029</th>\n",
       "      <td>No</td>\n",
       "      <td>0</td>\n",
       "      <td>72</td>\n",
       "      <td>None</td>\n",
       "      <td>Yes</td>\n",
       "      <td>33.93</td>\n",
       "      <td>Yes</td>\n",
       "      <td>Yes</td>\n",
       "      <td>Fiber Optic</td>\n",
       "      <td>18</td>\n",
       "      <td>No</td>\n",
       "      <td>Yes</td>\n",
       "      <td>Yes</td>\n",
       "      <td>No</td>\n",
       "      <td>Yes</td>\n",
       "      <td>Yes</td>\n",
       "      <td>Yes</td>\n",
       "      <td>Yes</td>\n",
       "      <td>One Year</td>\n",
       "      <td>Yes</td>\n",
       "      <td>Bank Withdrawal</td>\n",
       "      <td>104.95</td>\n",
       "      <td>7544.30</td>\n",
       "      <td>25.42</td>\n",
       "      <td>0</td>\n",
       "      <td>2442.96</td>\n",
       "      <td>9961.84</td>\n",
       "      <td>7</td>\n",
       "    </tr>\n",
       "    <tr>\n",
       "      <th>7042</th>\n",
       "      <td>No</td>\n",
       "      <td>0</td>\n",
       "      <td>66</td>\n",
       "      <td>None</td>\n",
       "      <td>Yes</td>\n",
       "      <td>30.96</td>\n",
       "      <td>No</td>\n",
       "      <td>Yes</td>\n",
       "      <td>Fiber Optic</td>\n",
       "      <td>11</td>\n",
       "      <td>Yes</td>\n",
       "      <td>No</td>\n",
       "      <td>Yes</td>\n",
       "      <td>Yes</td>\n",
       "      <td>Yes</td>\n",
       "      <td>Yes</td>\n",
       "      <td>Yes</td>\n",
       "      <td>Yes</td>\n",
       "      <td>Two Year</td>\n",
       "      <td>Yes</td>\n",
       "      <td>Bank Withdrawal</td>\n",
       "      <td>105.65</td>\n",
       "      <td>6844.50</td>\n",
       "      <td>0.00</td>\n",
       "      <td>0</td>\n",
       "      <td>2043.36</td>\n",
       "      <td>8887.86</td>\n",
       "      <td>7</td>\n",
       "    </tr>\n",
       "  </tbody>\n",
       "</table>\n",
       "<p>902 rows × 28 columns</p>\n",
       "</div>"
      ],
      "text/plain": [
       "     Referred a Friend  Number of Referrals  Tenure in Months    Offer  \\\n",
       "21                  No                    0                54  Offer B   \n",
       "36                 Yes                    3                49  Offer B   \n",
       "37                 Yes                    1                43  Offer B   \n",
       "38                  No                    0                56  Offer B   \n",
       "44                 Yes                    1                33     None   \n",
       "...                ...                  ...               ...      ...   \n",
       "7022               Yes                    1                62  Offer B   \n",
       "7023                No                    0                40  Offer B   \n",
       "7024                No                    0                41  Offer B   \n",
       "7029                No                    0                72     None   \n",
       "7042                No                    0                66     None   \n",
       "\n",
       "     Phone Service  Avg Monthly Long Distance Charges Multiple Lines  \\\n",
       "21             Yes                              12.08            Yes   \n",
       "36             Yes                              22.92            Yes   \n",
       "37             Yes                              14.52            Yes   \n",
       "38             Yes                              48.80            Yes   \n",
       "44             Yes                              27.78            Yes   \n",
       "...            ...                                ...            ...   \n",
       "7022           Yes                               4.70            Yes   \n",
       "7023           Yes                               2.83            Yes   \n",
       "7024           Yes                              41.85            Yes   \n",
       "7029           Yes                              33.93            Yes   \n",
       "7042           Yes                              30.96             No   \n",
       "\n",
       "     Internet Service Internet Type  Avg Monthly GB Download Online Security  \\\n",
       "21                Yes           DSL                        5             Yes   \n",
       "36                Yes   Fiber Optic                       14              No   \n",
       "37                Yes   Fiber Optic                        5              No   \n",
       "38                Yes   Fiber Optic                       12             Yes   \n",
       "44                Yes   Fiber Optic                        8              No   \n",
       "...               ...           ...                      ...             ...   \n",
       "7022              Yes         Cable                       28             Yes   \n",
       "7023              Yes   Fiber Optic                       22              No   \n",
       "7024              Yes   Fiber Optic                       16              No   \n",
       "7029              Yes   Fiber Optic                       18              No   \n",
       "7042              Yes   Fiber Optic                       11             Yes   \n",
       "\n",
       "     Online Backup Device Protection Plan Premium Tech Support Streaming TV  \\\n",
       "21             Yes                     No                  Yes          Yes   \n",
       "36             Yes                     No                   No           No   \n",
       "37             Yes                    Yes                  Yes          Yes   \n",
       "38              No                    Yes                   No          Yes   \n",
       "44              No                     No                   No          Yes   \n",
       "...            ...                    ...                  ...          ...   \n",
       "7022           Yes                     No                  Yes          Yes   \n",
       "7023           Yes                    Yes                   No          Yes   \n",
       "7024           Yes                     No                   No          Yes   \n",
       "7029           Yes                    Yes                   No          Yes   \n",
       "7042            No                    Yes                  Yes          Yes   \n",
       "\n",
       "     Streaming Movies Streaming Music Unlimited Data        Contract  \\\n",
       "21                Yes             Yes            Yes        One Year   \n",
       "36                Yes              No            Yes  Month-to-Month   \n",
       "37                Yes              No            Yes  Month-to-Month   \n",
       "38                Yes              No            Yes        One Year   \n",
       "44                Yes              No            Yes  Month-to-Month   \n",
       "...               ...             ...            ...             ...   \n",
       "7022              Yes             Yes            Yes        Two Year   \n",
       "7023               No              No            Yes  Month-to-Month   \n",
       "7024               No              No            Yes  Month-to-Month   \n",
       "7029              Yes             Yes            Yes        One Year   \n",
       "7042              Yes             Yes            Yes        Two Year   \n",
       "\n",
       "     Paperless Billing   Payment Method  Monthly Charge  Total Charges  \\\n",
       "21                  No  Bank Withdrawal           82.45        4350.10   \n",
       "36                  No      Credit Card           90.05        4547.25   \n",
       "37                 Yes  Bank Withdrawal          110.75        4687.90   \n",
       "38                 Yes  Bank Withdrawal          104.55        5794.65   \n",
       "44                 Yes  Bank Withdrawal           94.50        3105.55   \n",
       "...                ...              ...             ...            ...   \n",
       "7022               Yes  Bank Withdrawal           84.95        5150.55   \n",
       "7023               Yes  Bank Withdrawal           93.40        3756.40   \n",
       "7024               Yes  Bank Withdrawal           89.20        3645.75   \n",
       "7029               Yes  Bank Withdrawal          104.95        7544.30   \n",
       "7042               Yes  Bank Withdrawal          105.65        6844.50   \n",
       "\n",
       "      Total Refunds  Total Extra Data Charges  Total Long Distance Charges  \\\n",
       "21             0.00                         0                       652.32   \n",
       "36             0.00                         0                      1123.08   \n",
       "37             0.00                         0                       624.36   \n",
       "38             0.00                         0                      2732.80   \n",
       "44             0.00                         0                       916.74   \n",
       "...             ...                       ...                          ...   \n",
       "7022           4.68                         0                       291.40   \n",
       "7023           4.18                         0                       113.20   \n",
       "7024           2.21                         0                      1715.85   \n",
       "7029          25.42                         0                      2442.96   \n",
       "7042           0.00                         0                      2043.36   \n",
       "\n",
       "      Total Revenue  Kmeans_Clustering  \n",
       "21          5002.42                  7  \n",
       "36          5670.33                  7  \n",
       "37          5312.26                  7  \n",
       "38          8527.45                  7  \n",
       "44          4022.29                  7  \n",
       "...             ...                ...  \n",
       "7022        5437.27                  7  \n",
       "7023        3865.42                  7  \n",
       "7024        5359.39                  7  \n",
       "7029        9961.84                  7  \n",
       "7042        8887.86                  7  \n",
       "\n",
       "[902 rows x 28 columns]"
      ]
     },
     "execution_count": 187,
     "metadata": {},
     "output_type": "execute_result"
    }
   ],
   "source": [
    "Kmeans_df[Kmeans_df['Kmeans_Clustering']==1 | 4 | 7]"
   ]
  },
  {
   "cell_type": "code",
   "execution_count": 203,
   "metadata": {},
   "outputs": [
    {
     "data": {
      "text/html": [
       "<div>\n",
       "<style scoped>\n",
       "    .dataframe tbody tr th:only-of-type {\n",
       "        vertical-align: middle;\n",
       "    }\n",
       "\n",
       "    .dataframe tbody tr th {\n",
       "        vertical-align: top;\n",
       "    }\n",
       "\n",
       "    .dataframe thead th {\n",
       "        text-align: right;\n",
       "    }\n",
       "</style>\n",
       "<table border=\"1\" class=\"dataframe\">\n",
       "  <thead>\n",
       "    <tr style=\"text-align: right;\">\n",
       "      <th>Kmeans_Clustering</th>\n",
       "      <th>0</th>\n",
       "      <th>1</th>\n",
       "      <th>2</th>\n",
       "      <th>3</th>\n",
       "      <th>4</th>\n",
       "      <th>5</th>\n",
       "      <th>6</th>\n",
       "      <th>7</th>\n",
       "      <th>8</th>\n",
       "    </tr>\n",
       "  </thead>\n",
       "  <tbody>\n",
       "    <tr>\n",
       "      <th>Number of Referrals</th>\n",
       "      <td>4.924804</td>\n",
       "      <td>0.311005</td>\n",
       "      <td>5.582228</td>\n",
       "      <td>4.026866</td>\n",
       "      <td>0.187437</td>\n",
       "      <td>0.619165</td>\n",
       "      <td>2.027682</td>\n",
       "      <td>0.329268</td>\n",
       "      <td>1.016598</td>\n",
       "    </tr>\n",
       "    <tr>\n",
       "      <th>Tenure in Months</th>\n",
       "      <td>64.728395</td>\n",
       "      <td>9.267943</td>\n",
       "      <td>36.783820</td>\n",
       "      <td>49.550746</td>\n",
       "      <td>16.290780</td>\n",
       "      <td>13.683047</td>\n",
       "      <td>37.027682</td>\n",
       "      <td>52.875831</td>\n",
       "      <td>25.433610</td>\n",
       "    </tr>\n",
       "    <tr>\n",
       "      <th>Avg Monthly Long Distance Charges</th>\n",
       "      <td>29.027609</td>\n",
       "      <td>27.365295</td>\n",
       "      <td>14.681724</td>\n",
       "      <td>27.218761</td>\n",
       "      <td>10.793941</td>\n",
       "      <td>23.386523</td>\n",
       "      <td>21.691522</td>\n",
       "      <td>26.823614</td>\n",
       "      <td>25.020000</td>\n",
       "    </tr>\n",
       "    <tr>\n",
       "      <th>Avg Monthly GB Download</th>\n",
       "      <td>27.903479</td>\n",
       "      <td>23.799043</td>\n",
       "      <td>31.469496</td>\n",
       "      <td>0.020896</td>\n",
       "      <td>25.987842</td>\n",
       "      <td>0.120393</td>\n",
       "      <td>20.356401</td>\n",
       "      <td>24.565410</td>\n",
       "      <td>25.421162</td>\n",
       "    </tr>\n",
       "    <tr>\n",
       "      <th>Monthly Charge</th>\n",
       "      <td>94.714198</td>\n",
       "      <td>79.924043</td>\n",
       "      <td>65.951194</td>\n",
       "      <td>22.097463</td>\n",
       "      <td>48.591388</td>\n",
       "      <td>21.001597</td>\n",
       "      <td>69.193080</td>\n",
       "      <td>91.059867</td>\n",
       "      <td>82.533610</td>\n",
       "    </tr>\n",
       "    <tr>\n",
       "      <th>Total Charges</th>\n",
       "      <td>6143.738384</td>\n",
       "      <td>761.944817</td>\n",
       "      <td>2386.251194</td>\n",
       "      <td>1098.574313</td>\n",
       "      <td>804.217021</td>\n",
       "      <td>282.837899</td>\n",
       "      <td>2513.996367</td>\n",
       "      <td>4819.213747</td>\n",
       "      <td>2071.430187</td>\n",
       "    </tr>\n",
       "    <tr>\n",
       "      <th>Total Refunds</th>\n",
       "      <td>0.781785</td>\n",
       "      <td>0.209864</td>\n",
       "      <td>0.660610</td>\n",
       "      <td>0.579254</td>\n",
       "      <td>0.390243</td>\n",
       "      <td>0.354570</td>\n",
       "      <td>36.879204</td>\n",
       "      <td>0.496253</td>\n",
       "      <td>0.402925</td>\n",
       "    </tr>\n",
       "    <tr>\n",
       "      <th>Total Extra Data Charges</th>\n",
       "      <td>10.763187</td>\n",
       "      <td>6.124402</td>\n",
       "      <td>9.734748</td>\n",
       "      <td>0.134328</td>\n",
       "      <td>6.818642</td>\n",
       "      <td>0.098280</td>\n",
       "      <td>9.031142</td>\n",
       "      <td>10.554324</td>\n",
       "      <td>9.709544</td>\n",
       "    </tr>\n",
       "    <tr>\n",
       "      <th>Total Long Distance Charges</th>\n",
       "      <td>1853.964534</td>\n",
       "      <td>245.589561</td>\n",
       "      <td>415.505796</td>\n",
       "      <td>1314.531418</td>\n",
       "      <td>109.658987</td>\n",
       "      <td>291.120725</td>\n",
       "      <td>806.199654</td>\n",
       "      <td>1382.924601</td>\n",
       "      <td>615.003299</td>\n",
       "    </tr>\n",
       "    <tr>\n",
       "      <th>Total Revenue</th>\n",
       "      <td>8007.684321</td>\n",
       "      <td>1013.448915</td>\n",
       "      <td>2810.831127</td>\n",
       "      <td>2412.660806</td>\n",
       "      <td>920.304407</td>\n",
       "      <td>573.702334</td>\n",
       "      <td>3292.347958</td>\n",
       "      <td>6212.196419</td>\n",
       "      <td>2695.740104</td>\n",
       "    </tr>\n",
       "  </tbody>\n",
       "</table>\n",
       "</div>"
      ],
      "text/plain": [
       "Kmeans_Clustering                            0            1            2  \\\n",
       "Number of Referrals                   4.924804     0.311005     5.582228   \n",
       "Tenure in Months                     64.728395     9.267943    36.783820   \n",
       "Avg Monthly Long Distance Charges    29.027609    27.365295    14.681724   \n",
       "Avg Monthly GB Download              27.903479    23.799043    31.469496   \n",
       "Monthly Charge                       94.714198    79.924043    65.951194   \n",
       "Total Charges                      6143.738384   761.944817  2386.251194   \n",
       "Total Refunds                         0.781785     0.209864     0.660610   \n",
       "Total Extra Data Charges             10.763187     6.124402     9.734748   \n",
       "Total Long Distance Charges        1853.964534   245.589561   415.505796   \n",
       "Total Revenue                      8007.684321  1013.448915  2810.831127   \n",
       "\n",
       "Kmeans_Clustering                            3           4           5  \\\n",
       "Number of Referrals                   4.026866    0.187437    0.619165   \n",
       "Tenure in Months                     49.550746   16.290780   13.683047   \n",
       "Avg Monthly Long Distance Charges    27.218761   10.793941   23.386523   \n",
       "Avg Monthly GB Download               0.020896   25.987842    0.120393   \n",
       "Monthly Charge                       22.097463   48.591388   21.001597   \n",
       "Total Charges                      1098.574313  804.217021  282.837899   \n",
       "Total Refunds                         0.579254    0.390243    0.354570   \n",
       "Total Extra Data Charges              0.134328    6.818642    0.098280   \n",
       "Total Long Distance Charges        1314.531418  109.658987  291.120725   \n",
       "Total Revenue                      2412.660806  920.304407  573.702334   \n",
       "\n",
       "Kmeans_Clustering                            6            7            8  \n",
       "Number of Referrals                   2.027682     0.329268     1.016598  \n",
       "Tenure in Months                     37.027682    52.875831    25.433610  \n",
       "Avg Monthly Long Distance Charges    21.691522    26.823614    25.020000  \n",
       "Avg Monthly GB Download              20.356401    24.565410    25.421162  \n",
       "Monthly Charge                       69.193080    91.059867    82.533610  \n",
       "Total Charges                      2513.996367  4819.213747  2071.430187  \n",
       "Total Refunds                        36.879204     0.496253     0.402925  \n",
       "Total Extra Data Charges              9.031142    10.554324     9.709544  \n",
       "Total Long Distance Charges         806.199654  1382.924601   615.003299  \n",
       "Total Revenue                      3292.347958  6212.196419  2695.740104  "
      ]
     },
     "execution_count": 203,
     "metadata": {},
     "output_type": "execute_result"
    }
   ],
   "source": [
    "Kmeans_df.groupby('Kmeans_Clustering').mean().T"
   ]
  },
  {
   "cell_type": "code",
   "execution_count": null,
   "metadata": {},
   "outputs": [],
   "source": []
  }
 ],
 "metadata": {
  "kernelspec": {
   "display_name": "Python 3",
   "language": "python",
   "name": "python3"
  },
  "language_info": {
   "codemirror_mode": {
    "name": "ipython",
    "version": 3
   },
   "file_extension": ".py",
   "mimetype": "text/x-python",
   "name": "python",
   "nbconvert_exporter": "python",
   "pygments_lexer": "ipython3",
   "version": "3.8.5"
  },
  "toc": {
   "base_numbering": 1,
   "nav_menu": {},
   "number_sections": true,
   "sideBar": true,
   "skip_h1_title": false,
   "title_cell": "Table of Contents",
   "title_sidebar": "Contents",
   "toc_cell": false,
   "toc_position": {},
   "toc_section_display": true,
   "toc_window_display": false
  },
  "varInspector": {
   "cols": {
    "lenName": 16,
    "lenType": 16,
    "lenVar": 40
   },
   "kernels_config": {
    "python": {
     "delete_cmd_postfix": "",
     "delete_cmd_prefix": "del ",
     "library": "var_list.py",
     "varRefreshCmd": "print(var_dic_list())"
    },
    "r": {
     "delete_cmd_postfix": ") ",
     "delete_cmd_prefix": "rm(",
     "library": "var_list.r",
     "varRefreshCmd": "cat(var_dic_list()) "
    }
   },
   "position": {
    "height": "309.716px",
    "left": "864.815px",
    "right": "20px",
    "top": "120px",
    "width": "357.003px"
   },
   "types_to_exclude": [
    "module",
    "function",
    "builtin_function_or_method",
    "instance",
    "_Feature"
   ],
   "window_display": false
  }
 },
 "nbformat": 4,
 "nbformat_minor": 4
}
